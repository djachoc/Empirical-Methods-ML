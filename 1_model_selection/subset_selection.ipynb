{
 "cells": [
  {
   "cell_type": "markdown",
   "metadata": {
    "slideshow": {
     "slide_type": "slide"
    }
   },
   "source": [
    "# Subset Selection"
   ]
  },
  {
   "cell_type": "markdown",
   "metadata": {
    "slideshow": {
     "slide_type": "subslide"
    }
   },
   "source": [
    "This approach involves identifying a subset of the $p$ features (predictors) out of the $k$ that we believe to be related to the response. We then fit a model using OLS on the reduced set of variables."
   ]
  },
  {
   "cell_type": "code",
   "execution_count": 1,
   "metadata": {
    "slideshow": {
     "slide_type": "subslide"
    }
   },
   "outputs": [
    {
     "name": "stderr",
     "output_type": "stream",
     "text": [
      "Loading required package: wooldridge\n",
      "\n"
     ]
    }
   ],
   "source": [
    "## removing everything from memory\n",
    "rm(list=ls())\n",
    "## turning all warnings off\n",
    "options(warn=-1)\n",
    "\n",
    "## installing the 'wooldridge' package if not previously installed\n",
    "if (!require(wooldridge)) install.packages('wooldridge')\n",
    "\n",
    "## loading the packages\n",
    "library(wooldridge)\n",
    "\n",
    "data(hprice2)\n",
    "\n",
    "##  hprice2\n",
    "##  Obs:   506\n",
    "\n",
    "##  1. price                    median housing price, $\n",
    "##  2. crime                    crimes committed per capita\n",
    "##  3. nox                      nitrous oxide, parts per 100 mill.\n",
    "##  4. rooms                    avg number of rooms per house\n",
    "##  5. dist                     weighted dist. to 5 employ centers\n",
    "##  6. radial                   accessibiliy index to radial hghwys\n",
    "##  7. proptax                  property tax per $1000\n",
    "##  8. stratio                  average student-teacher ratio\n",
    "##  9. lowstat                  % of people 'lower status'\n",
    "## 10. lprice                   log(price)\n",
    "## 11. lnox                     log(nox)\n",
    "## 12. lproptax                 log(proptax)\n",
    "\n",
    "## specifying the outcome variable (y) and predictors (X)\n",
    "outcome <- \"lprice\"\n",
    "predictors <- c(\"lnox\", \"lproptax\", \"crime\", \"rooms\", \"dist\", \"radial\", \"stratio\", \"lowstat\")\n",
    "\n",
    "## creating a copy of the data set containing only relevant outcome and features\n",
    "datos <- subset(hprice2,select=c(outcome,predictors))"
   ]
  },
  {
   "cell_type": "markdown",
   "metadata": {
    "slideshow": {
     "slide_type": "slide"
    }
   },
   "source": [
    "## _Best_ Subset Selection"
   ]
  },
  {
   "cell_type": "markdown",
   "metadata": {
    "slideshow": {
     "slide_type": "subslide"
    }
   },
   "source": [
    "To perform best subset selection, we fit a separate OLS regression best subset for each possible combination of the $k$ predictors. That is, we fit _all_ $k$ models selection that contain exactly one predictor, all $\\left(\\begin{array}{l}{k} \\\\ {2}\\end{array}\\right)=k(k-1) / 2$ models that contain exactly two predictors, and so forth. We then look at all of the resulting models, with the goal of identifying the one that is best."
   ]
  },
  {
   "cell_type": "code",
   "execution_count": 2,
   "metadata": {
    "slideshow": {
     "slide_type": "subslide"
    }
   },
   "outputs": [
    {
     "name": "stderr",
     "output_type": "stream",
     "text": [
      "Loading required package: tidyverse\n",
      "\n",
      "-- \u001b[1mAttaching packages\u001b[22m --------------------------------------- tidyverse 1.3.0 --\n",
      "\n",
      "\u001b[32mv\u001b[39m \u001b[34mggplot2\u001b[39m 3.3.3     \u001b[32mv\u001b[39m \u001b[34mpurrr  \u001b[39m 0.3.4\n",
      "\u001b[32mv\u001b[39m \u001b[34mtibble \u001b[39m 3.0.5     \u001b[32mv\u001b[39m \u001b[34mdplyr  \u001b[39m 1.0.3\n",
      "\u001b[32mv\u001b[39m \u001b[34mtidyr  \u001b[39m 1.1.2     \u001b[32mv\u001b[39m \u001b[34mstringr\u001b[39m 1.4.0\n",
      "\u001b[32mv\u001b[39m \u001b[34mreadr  \u001b[39m 1.4.0     \u001b[32mv\u001b[39m \u001b[34mforcats\u001b[39m 0.5.0\n",
      "\n",
      "-- \u001b[1mConflicts\u001b[22m ------------------------------------------ tidyverse_conflicts() --\n",
      "\u001b[31mx\u001b[39m \u001b[34mdplyr\u001b[39m::\u001b[32mfilter()\u001b[39m masks \u001b[34mstats\u001b[39m::filter()\n",
      "\u001b[31mx\u001b[39m \u001b[34mdplyr\u001b[39m::\u001b[32mlag()\u001b[39m    masks \u001b[34mstats\u001b[39m::lag()\n",
      "\n",
      "Loading required package: caret\n",
      "\n",
      "Loading required package: lattice\n",
      "\n",
      "\n",
      "Attaching package: 'caret'\n",
      "\n",
      "\n",
      "The following object is masked from 'package:purrr':\n",
      "\n",
      "    lift\n",
      "\n",
      "\n",
      "Loading required package: leaps\n",
      "\n"
     ]
    }
   ],
   "source": [
    "## for easy data manipulation and visualization\n",
    "if (!require(tidyverse)) install.packages('tidyverse')\n",
    "library(tidyverse)\n",
    "\n",
    "## for easy machine learning workflow\n",
    "if (!require(caret)) install.packages('caret')\n",
    "library(caret)\n",
    "\n",
    "## for computing best subsets regression\n",
    "if (!require(leaps)) install.packages('leaps')\n",
    "library(leaps)"
   ]
  },
  {
   "cell_type": "markdown",
   "metadata": {
    "slideshow": {
     "slide_type": "subslide"
    }
   },
   "source": [
    "***\n",
    "**Algorithm**: <ins>_Best_ Subset Selection</ins>\n",
    "\n",
    "1. Let $\\mathcal{M}_{0}$ denote the null model, which contains no predictors. This model simply predicts the sample mean for each observation.\n",
    "2. For $p=1,2, \\ldots k$:\n",
    " 1. Fit all $\\left(\\begin{array}{l}{k} \\\\ {p}\\end{array}\\right)$ models that contain exactly $p$ predictors.\n",
    " 2. Pick the best among these $\\left(\\begin{array}{l}{k} \\\\ {p}\\end{array}\\right)$ models, and call it $\\mathcal{M}_{p}$. Here best is defined as having the smallest $RSS$, or equivalently largest $R^{2}$."
   ]
  },
  {
   "cell_type": "code",
   "execution_count": 3,
   "metadata": {
    "slideshow": {
     "slide_type": "fragment"
    }
   },
   "outputs": [
    {
     "data": {
      "text/plain": [
       "Subset selection object\n",
       "Call: regsubsets.formula(lprice ~ ., data = datos, nvmax = 8, method = \"exhaustive\")\n",
       "8 Variables  (and intercept)\n",
       "         Forced in Forced out\n",
       "lnox         FALSE      FALSE\n",
       "lproptax     FALSE      FALSE\n",
       "crime        FALSE      FALSE\n",
       "rooms        FALSE      FALSE\n",
       "dist         FALSE      FALSE\n",
       "radial       FALSE      FALSE\n",
       "stratio      FALSE      FALSE\n",
       "lowstat      FALSE      FALSE\n",
       "1 subsets of each size up to 8\n",
       "Selection Algorithm: exhaustive\n",
       "         lnox lproptax crime rooms dist radial stratio lowstat\n",
       "1  ( 1 ) \" \"  \" \"      \" \"   \" \"   \" \"  \" \"    \" \"     \"*\"    \n",
       "2  ( 1 ) \" \"  \" \"      \" \"   \" \"   \" \"  \" \"    \"*\"     \"*\"    \n",
       "3  ( 1 ) \" \"  \" \"      \"*\"   \"*\"   \" \"  \" \"    \" \"     \"*\"    \n",
       "4  ( 1 ) \" \"  \" \"      \"*\"   \"*\"   \" \"  \" \"    \"*\"     \"*\"    \n",
       "5  ( 1 ) \" \"  \" \"      \"*\"   \"*\"   \"*\"  \" \"    \"*\"     \"*\"    \n",
       "6  ( 1 ) \"*\"  \" \"      \"*\"   \"*\"   \"*\"  \" \"    \"*\"     \"*\"    \n",
       "7  ( 1 ) \"*\"  \" \"      \"*\"   \"*\"   \"*\"  \"*\"    \"*\"     \"*\"    \n",
       "8  ( 1 ) \"*\"  \"*\"      \"*\"   \"*\"   \"*\"  \"*\"    \"*\"     \"*\"    "
      ]
     },
     "metadata": {},
     "output_type": "display_data"
    }
   ],
   "source": [
    "models.best <- regsubsets(lprice~., data = datos, nvmax = 8,method=\"exhaustive\")\n",
    "\n",
    "## returning the set of Mp models\n",
    "summary(models.best)"
   ]
  },
  {
   "cell_type": "markdown",
   "metadata": {
    "slideshow": {
     "slide_type": "subslide"
    }
   },
   "source": [
    "3. Select a single best model from among $\\mathcal{M}_{0}, \\ldots, \\mathcal{M}_{k}$ using a *model selection criteria* previously discussed such as cross-validated prediction error, $C_{p}(\\mathrm{AIC}), \\mathrm{BIC}$, adjusted $R^{2}$, etc."
   ]
  },
  {
   "cell_type": "code",
   "execution_count": 4,
   "metadata": {
    "slideshow": {
     "slide_type": "fragment"
    }
   },
   "outputs": [
    {
     "data": {
      "text/html": [
       "<table>\n",
       "<caption>A data.frame: 1 × 3</caption>\n",
       "<thead>\n",
       "\t<tr><th scope=col>Adj.R2</th><th scope=col>CP</th><th scope=col>BIC</th></tr>\n",
       "\t<tr><th scope=col>&lt;int&gt;</th><th scope=col>&lt;int&gt;</th><th scope=col>&lt;int&gt;</th></tr>\n",
       "</thead>\n",
       "<tbody>\n",
       "\t<tr><td>8</td><td>8</td><td>8</td></tr>\n",
       "</tbody>\n",
       "</table>\n"
      ],
      "text/latex": [
       "A data.frame: 1 × 3\n",
       "\\begin{tabular}{lll}\n",
       " Adj.R2 & CP & BIC\\\\\n",
       " <int> & <int> & <int>\\\\\n",
       "\\hline\n",
       "\t 8 & 8 & 8\\\\\n",
       "\\end{tabular}\n"
      ],
      "text/markdown": [
       "\n",
       "A data.frame: 1 × 3\n",
       "\n",
       "| Adj.R2 &lt;int&gt; | CP &lt;int&gt; | BIC &lt;int&gt; |\n",
       "|---|---|---|\n",
       "| 8 | 8 | 8 |\n",
       "\n"
      ],
      "text/plain": [
       "  Adj.R2 CP BIC\n",
       "1 8      8  8  "
      ]
     },
     "metadata": {},
     "output_type": "display_data"
    }
   ],
   "source": [
    "## selecting a single model based on selection criteria: Adjusted R2, Cp and BIC\n",
    "res.sum <- summary(models.best)\n",
    "data.frame(Adj.R2 = which.max(res.sum$adjr2),\n",
    "           CP = which.min(res.sum$cp),\n",
    "           BIC = which.min(res.sum$bic)\n",
    "          )"
   ]
  },
  {
   "cell_type": "code",
   "execution_count": 5,
   "metadata": {},
   "outputs": [
    {
     "data": {
      "image/png": "[encoded data removed]",
      "text/plain": [
       "Plot with title \"Best fit BIC vs No of features\""
      ]
     },
     "metadata": {
      "image/png": {
       "height": 420,
       "width": 420
      }
     },
     "output_type": "display_data"
    }
   ],
   "source": [
    "par(mfrow=c(1,3))\n",
    "\n",
    "# Plot the Adjusted R2 vs number of variables \n",
    "plot(res.sum$adjr2,xlab=\"Number of Variables\",ylab=\"Adj. R2\",type=\"l\",main=\"Best fit Adj. R2 vs No of features\")\n",
    "# Get the index of the minimum value\n",
    "a=which.max(res.sum$adjr2)\n",
    "# Mark this in red\n",
    "points(a,res.sum$adjr2[a],col=\"red\",cex=2,pch=20)\n",
    "\n",
    "# Plot the Cp vs number of variables \n",
    "plot(res.sum$cp,xlab=\"Number of Variables\",ylab=\"Cp\",type=\"l\",main=\"Best fit Cp vs No of features\")\n",
    "# Get the index of the minimum value\n",
    "b=which.min(res.sum$cp)\n",
    "# Mark this in red\n",
    "points(b,res.sum$cp[b],col=\"red\",cex=2,pch=20)\n",
    "\n",
    "# Plot the BIC vs number of variables \n",
    "plot(res.sum$bic,xlab=\"Number of Variables\",ylab=\"BIC\",type=\"l\",main=\"Best fit BIC vs No of features\")\n",
    "# Get the index of the minimum value\n",
    "c=which.min(res.sum$bic)\n",
    "# Mark this in red\n",
    "points(c,res.sum$bic[c],col=\"red\",cex=2,pch=20)"
   ]
  },
  {
   "cell_type": "markdown",
   "metadata": {
    "slideshow": {
     "slide_type": "subslide"
    }
   },
   "source": [
    "***\n",
    "⚠️ The number of possible models that must be considered grows rapidly as $k$ increases, e.g., if $k$=10, then there are approximately 1,000 possible models to be considered, and if $k=20$, there are over one million possibilities (1,048,576)!"
   ]
  },
  {
   "cell_type": "markdown",
   "metadata": {
    "slideshow": {
     "slide_type": "slide"
    }
   },
   "source": [
    "## Stepwise Selection: _Forward_ Stepwise Selection"
   ]
  },
  {
   "cell_type": "markdown",
   "metadata": {
    "slideshow": {
     "slide_type": "subslide"
    }
   },
   "source": [
    "For computational reason, the previous '_best_ subset selection' cannot be applied with very large $k$ (remember it consinders all $2^k$  possible models). The algorithm begins with a model containing no predictors, and then adds predictors to the model, one-at-a-time, untill all the predictors are in the model."
   ]
  },
  {
   "cell_type": "markdown",
   "metadata": {
    "slideshow": {
     "slide_type": "subslide"
    }
   },
   "source": [
    "***\n",
    "**Algorithm**: <ins>_Forward_ Stepwise Selection</ins>\n",
    "\n",
    "1. Let $\\mathcal{M}_{0}$ denote the null model, which contains _no_ predictors.\n",
    "2. For $p=0,1,2,\\ldots, k-1$:\n",
    " 1. Consider all $k-p$ models that augment the predictors in $\\mathcal{M}_{p}$ with one additional predictor.\n",
    " 2. Choose the _best_ among these $k-p$ models, and call it $\\mathcal{M}_{p+1}$. Here best is defined as having smallest $RSS$ or highest $R^{2}$."
   ]
  },
  {
   "cell_type": "code",
   "execution_count": 6,
   "metadata": {
    "slideshow": {
     "slide_type": "fragment"
    }
   },
   "outputs": [
    {
     "data": {
      "text/plain": [
       "Subset selection object\n",
       "Call: regsubsets.formula(lprice ~ ., data = datos, nvmax = 8, method = \"forward\")\n",
       "8 Variables  (and intercept)\n",
       "         Forced in Forced out\n",
       "lnox         FALSE      FALSE\n",
       "lproptax     FALSE      FALSE\n",
       "crime        FALSE      FALSE\n",
       "rooms        FALSE      FALSE\n",
       "dist         FALSE      FALSE\n",
       "radial       FALSE      FALSE\n",
       "stratio      FALSE      FALSE\n",
       "lowstat      FALSE      FALSE\n",
       "1 subsets of each size up to 8\n",
       "Selection Algorithm: forward\n",
       "         lnox lproptax crime rooms dist radial stratio lowstat\n",
       "1  ( 1 ) \" \"  \" \"      \" \"   \" \"   \" \"  \" \"    \" \"     \"*\"    \n",
       "2  ( 1 ) \" \"  \" \"      \" \"   \" \"   \" \"  \" \"    \"*\"     \"*\"    \n",
       "3  ( 1 ) \" \"  \" \"      \"*\"   \" \"   \" \"  \" \"    \"*\"     \"*\"    \n",
       "4  ( 1 ) \" \"  \" \"      \"*\"   \"*\"   \" \"  \" \"    \"*\"     \"*\"    \n",
       "5  ( 1 ) \" \"  \" \"      \"*\"   \"*\"   \"*\"  \" \"    \"*\"     \"*\"    \n",
       "6  ( 1 ) \"*\"  \" \"      \"*\"   \"*\"   \"*\"  \" \"    \"*\"     \"*\"    \n",
       "7  ( 1 ) \"*\"  \" \"      \"*\"   \"*\"   \"*\"  \"*\"    \"*\"     \"*\"    \n",
       "8  ( 1 ) \"*\"  \"*\"      \"*\"   \"*\"   \"*\"  \"*\"    \"*\"     \"*\"    "
      ]
     },
     "metadata": {},
     "output_type": "display_data"
    }
   ],
   "source": [
    "models.forward <- regsubsets(lprice~., data = datos, nvmax = 8,method=\"forward\")\n",
    "\n",
    "## returning the set of Mp models\n",
    "summary(models.forward)"
   ]
  },
  {
   "cell_type": "markdown",
   "metadata": {
    "slideshow": {
     "slide_type": "subslide"
    }
   },
   "source": [
    "3. Select a single best model from among $\\mathcal{M}_{0}, \\ldots, \\mathcal{M}_{k}$ using a *model selection criteria* previously discussed such as cross-validated prediction error, $C_{p}(\\mathrm{AIC}), \\mathrm{BIC}$, adjusted $R^{2}$, etc."
   ]
  },
  {
   "cell_type": "code",
   "execution_count": 7,
   "metadata": {
    "slideshow": {
     "slide_type": "fragment"
    }
   },
   "outputs": [
    {
     "data": {
      "text/html": [
       "<table>\n",
       "<caption>A data.frame: 1 × 3</caption>\n",
       "<thead>\n",
       "\t<tr><th scope=col>Adj.R2</th><th scope=col>CP</th><th scope=col>BIC</th></tr>\n",
       "\t<tr><th scope=col>&lt;int&gt;</th><th scope=col>&lt;int&gt;</th><th scope=col>&lt;int&gt;</th></tr>\n",
       "</thead>\n",
       "<tbody>\n",
       "\t<tr><td>8</td><td>8</td><td>8</td></tr>\n",
       "</tbody>\n",
       "</table>\n"
      ],
      "text/latex": [
       "A data.frame: 1 × 3\n",
       "\\begin{tabular}{lll}\n",
       " Adj.R2 & CP & BIC\\\\\n",
       " <int> & <int> & <int>\\\\\n",
       "\\hline\n",
       "\t 8 & 8 & 8\\\\\n",
       "\\end{tabular}\n"
      ],
      "text/markdown": [
       "\n",
       "A data.frame: 1 × 3\n",
       "\n",
       "| Adj.R2 &lt;int&gt; | CP &lt;int&gt; | BIC &lt;int&gt; |\n",
       "|---|---|---|\n",
       "| 8 | 8 | 8 |\n",
       "\n"
      ],
      "text/plain": [
       "  Adj.R2 CP BIC\n",
       "1 8      8  8  "
      ]
     },
     "metadata": {},
     "output_type": "display_data"
    }
   ],
   "source": [
    "## selecting a single model based on selection criteria: Adjusted R2, Cp and BIC\n",
    "res.sum <- summary(models.forward)\n",
    "data.frame(Adj.R2 = which.max(res.sum$adjr2),\n",
    "           CP = which.min(res.sum$cp),\n",
    "           BIC = which.min(res.sum$bic)\n",
    "          )"
   ]
  },
  {
   "cell_type": "markdown",
   "metadata": {
    "slideshow": {
     "slide_type": "subslide"
    }
   },
   "source": [
    "***\n",
    "⚠️ There are a total of $1+\\sum_{p=0}^{k-1}(k-p)=1+\\frac{k(k+1)}{2}$ models to be estimated instead of $2^{k}$ as before,\n",
    "e.g. if $k=20,$ there are 211 models to be estimated! Interestingly it will work even when <font color=blue>$k>n$</font>."
   ]
  },
  {
   "cell_type": "markdown",
   "metadata": {},
   "source": [
    "## Stepwise Selection: _Backward_ Stepwise Selection\n",
    "\n",
    "Unlike forward stepwise selection, it begins with the full least squares model containing all $k$ regressors, and then iteractively the least useful regressors one-at-a-time until there are no predictors in the model, i.e., the null model.\n",
    "\n",
    "***\n",
    "**Algorithm**: <ins>_Backward_ Stepwise Selection</ins>\n",
    "\n",
    "1. Let $\\mathcal{M}_{k}$ denote the full model, which contains _all_ $k$ predictors.\n",
    "2. For $p=k,k-1,\\ldots, 1$:\n",
    " 1. Consider all $p$ models that contain all but one of the predictors in $\\mathcal{M}_{p}$ for a total of $p-1$ predictors.\n",
    " 2. Choose the best among these $p$ models, and call it $\\mathcal{M}_{p-1}$. Here best is defined as having smallest RSS or highest $R^{2}$."
   ]
  },
  {
   "cell_type": "code",
   "execution_count": 8,
   "metadata": {
    "slideshow": {
     "slide_type": "fragment"
    }
   },
   "outputs": [
    {
     "data": {
      "text/plain": [
       "Subset selection object\n",
       "Call: regsubsets.formula(lprice ~ ., data = datos, nvmax = 8, method = \"backward\")\n",
       "8 Variables  (and intercept)\n",
       "         Forced in Forced out\n",
       "lnox         FALSE      FALSE\n",
       "lproptax     FALSE      FALSE\n",
       "crime        FALSE      FALSE\n",
       "rooms        FALSE      FALSE\n",
       "dist         FALSE      FALSE\n",
       "radial       FALSE      FALSE\n",
       "stratio      FALSE      FALSE\n",
       "lowstat      FALSE      FALSE\n",
       "1 subsets of each size up to 8\n",
       "Selection Algorithm: backward\n",
       "         lnox lproptax crime rooms dist radial stratio lowstat\n",
       "1  ( 1 ) \" \"  \" \"      \" \"   \" \"   \" \"  \" \"    \" \"     \"*\"    \n",
       "2  ( 1 ) \" \"  \" \"      \"*\"   \" \"   \" \"  \" \"    \" \"     \"*\"    \n",
       "3  ( 1 ) \" \"  \" \"      \"*\"   \"*\"   \" \"  \" \"    \" \"     \"*\"    \n",
       "4  ( 1 ) \" \"  \" \"      \"*\"   \"*\"   \" \"  \" \"    \"*\"     \"*\"    \n",
       "5  ( 1 ) \" \"  \" \"      \"*\"   \"*\"   \"*\"  \" \"    \"*\"     \"*\"    \n",
       "6  ( 1 ) \"*\"  \" \"      \"*\"   \"*\"   \"*\"  \" \"    \"*\"     \"*\"    \n",
       "7  ( 1 ) \"*\"  \" \"      \"*\"   \"*\"   \"*\"  \"*\"    \"*\"     \"*\"    \n",
       "8  ( 1 ) \"*\"  \"*\"      \"*\"   \"*\"   \"*\"  \"*\"    \"*\"     \"*\"    "
      ]
     },
     "metadata": {},
     "output_type": "display_data"
    }
   ],
   "source": [
    "models.backward <- regsubsets(lprice~., data = datos, nvmax = 8,method=\"backward\")\n",
    "\n",
    "## returning the set of Mp models\n",
    "summary(models.backward)"
   ]
  },
  {
   "cell_type": "markdown",
   "metadata": {
    "slideshow": {
     "slide_type": "subslide"
    }
   },
   "source": [
    "3. Select a single best model from among $\\mathcal{M}_{0}, \\ldots, \\mathcal{M}_{k}$ using a *model selection criteria* previously discussed such as cross-validated prediction error, $C_{p}(\\mathrm{AIC}), \\mathrm{BIC}$, adjusted $R^{2}$, etc."
   ]
  },
  {
   "cell_type": "code",
   "execution_count": 9,
   "metadata": {
    "slideshow": {
     "slide_type": "fragment"
    }
   },
   "outputs": [
    {
     "data": {
      "text/html": [
       "<table>\n",
       "<caption>A data.frame: 1 × 3</caption>\n",
       "<thead>\n",
       "\t<tr><th scope=col>Adj.R2</th><th scope=col>CP</th><th scope=col>BIC</th></tr>\n",
       "\t<tr><th scope=col>&lt;int&gt;</th><th scope=col>&lt;int&gt;</th><th scope=col>&lt;int&gt;</th></tr>\n",
       "</thead>\n",
       "<tbody>\n",
       "\t<tr><td>8</td><td>8</td><td>8</td></tr>\n",
       "</tbody>\n",
       "</table>\n"
      ],
      "text/latex": [
       "A data.frame: 1 × 3\n",
       "\\begin{tabular}{lll}\n",
       " Adj.R2 & CP & BIC\\\\\n",
       " <int> & <int> & <int>\\\\\n",
       "\\hline\n",
       "\t 8 & 8 & 8\\\\\n",
       "\\end{tabular}\n"
      ],
      "text/markdown": [
       "\n",
       "A data.frame: 1 × 3\n",
       "\n",
       "| Adj.R2 &lt;int&gt; | CP &lt;int&gt; | BIC &lt;int&gt; |\n",
       "|---|---|---|\n",
       "| 8 | 8 | 8 |\n",
       "\n"
      ],
      "text/plain": [
       "  Adj.R2 CP BIC\n",
       "1 8      8  8  "
      ]
     },
     "metadata": {},
     "output_type": "display_data"
    }
   ],
   "source": [
    "## selecting a single model based on selection criteria: Adjusted R2, Cp and BIC\n",
    "res.sum <- summary(models.backward)\n",
    "data.frame(Adj.R2 = which.max(res.sum$adjr2),\n",
    "           CP = which.min(res.sum$cp),\n",
    "           BIC = which.min(res.sum$bic)\n",
    "          )"
   ]
  },
  {
   "cell_type": "markdown",
   "metadata": {
    "slideshow": {
     "slide_type": "subslide"
    }
   },
   "source": [
    "***\n",
    "⚠️ Unlike the _forward_ stepwise selection algorithm, this will _only_ work when <font color=blue>$n>k$</font>."
   ]
  },
  {
   "cell_type": "markdown",
   "metadata": {
    "slideshow": {
     "slide_type": "subslide"
    }
   },
   "source": [
    "<font color=red><ins>Note</ins> Notice that the $\\bar{R}^2$, BIC and $C_p$ are calculated on the training data that have been used to fit the model. This means that, the model selection, using these metrics, is possibly subject to overfitting and may not perform as well when applied to new data.</font>"
   ]
  },
  {
   "cell_type": "markdown",
   "metadata": {
    "slideshow": {
     "slide_type": "slide"
    }
   },
   "source": [
    "## Choosing the _Optimal_ Model"
   ]
  },
  {
   "cell_type": "markdown",
   "metadata": {
    "slideshow": {
     "slide_type": "subslide"
    }
   },
   "source": [
    "All the previous algorithms are good in selecting a model that best fit the training data set (because they all minimize the $RSS$ which is equivalent to maximize the $R^2$  for these observations) and this does not necessarily mean they minimize the $RSS$ in any validation data set. Therefore 'training set' $RSS$ and 'training set' $R^2$  cannot be used to select from among a set of models with different numbers of variables if we are meant to use this model for _prediction_. Therefore we can replace step 3 in these algorithms with a step where the __cross-validated prediction error__  is calculated using observations in the validation data set!\n",
    "\n",
    "💡 Of course you can use other _model selection criteria_ like $\\bar{R}^2$, $C_p$ (AIC), BIC, etc., _but_ if we care about the prediction power of our model, the __cross-validated prediction error__ is a more natural choice.\n",
    "\n",
    "💡 Remember that the $k$-fold Cross-validation consists of first dividing the data into $k$ subsets, also known as $k$-fold, where $k$ is generally set to 5 or 10. Each subset (10%) serves successively as test data set and the remaining subset (90%) as training data. The average cross-validation error is computed as the model prediction error."
   ]
  },
  {
   "cell_type": "markdown",
   "metadata": {
    "slideshow": {
     "slide_type": "subslide"
    }
   },
   "source": [
    "💻 The following user-written ```get_model_formula()``` function allows to access easily the formula of the models returned by the function ```regsubsets()``` above."
   ]
  },
  {
   "cell_type": "code",
   "execution_count": 10,
   "metadata": {
    "slideshow": {
     "slide_type": "fragment"
    }
   },
   "outputs": [],
   "source": [
    "## id: model id\n",
    "## object: regsubsets object\n",
    "## data: data used to fit regsubsets\n",
    "## outcome: outcome variable\n",
    "get_model_formula <- function(id, object, outcome){\n",
    "  models <- summary(object)$which[id,-1] # get models data\n",
    "  # Get model predictors\n",
    "  predictors <- names(which(models == TRUE))\n",
    "  predictors <- paste(predictors, collapse = \"+\")\n",
    "  # Build model formula\n",
    "  as.formula(paste0(outcome, \"~\", predictors))\n",
    "}"
   ]
  },
  {
   "cell_type": "markdown",
   "metadata": {
    "slideshow": {
     "slide_type": "subslide"
    }
   },
   "source": [
    "💻 For example the following code returns the best 6-variable model formula from the previous _best_ subset selection, i.e., $\\mathcal{M}_{6}$"
   ]
  },
  {
   "cell_type": "code",
   "execution_count": 11,
   "metadata": {
    "slideshow": {
     "slide_type": "fragment"
    }
   },
   "outputs": [
    {
     "data": {
      "text/plain": [
       "lprice ~ lnox + crime + rooms + dist + stratio + lowstat\n",
       "<environment: 0x5610724d3148>"
      ]
     },
     "metadata": {},
     "output_type": "display_data"
    }
   ],
   "source": [
    "get_model_formula(6, models.best, \"lprice\")"
   ]
  },
  {
   "cell_type": "markdown",
   "metadata": {
    "slideshow": {
     "slide_type": "subslide"
    }
   },
   "source": [
    "💻 The following user-written ```get_cv_error()``` calculates the cross-validation (CV) ```method=\"cv\"``` error for a given model ```model.formula```, using data set ```data``` and 5-folds ```number=5```."
   ]
  },
  {
   "cell_type": "code",
   "execution_count": 12,
   "metadata": {
    "slideshow": {
     "slide_type": "fragment"
    }
   },
   "outputs": [],
   "source": [
    "get_cv_error <- function(model.formula, data){\n",
    "      set.seed(38)\n",
    "      train.control <- trainControl(method = \"cv\", number = 10)\n",
    "      cv <- train(model.formula, data = data, method = \"lm\",\n",
    "                  trControl = train.control)\n",
    "      cv$results$RMSE\n",
    "}"
   ]
  },
  {
   "cell_type": "markdown",
   "metadata": {
    "slideshow": {
     "slide_type": "subslide"
    }
   },
   "source": [
    "💻 Finally, use the above defined user-written functions to compute the prediction error of the different best models returned by the ```regsubsets(...,method=\"exhaustive\")``` function:"
   ]
  },
  {
   "cell_type": "code",
   "execution_count": 13,
   "metadata": {
    "slideshow": {
     "slide_type": "fragment"
    }
   },
   "outputs": [
    {
     "data": {
      "text/html": [
       "<style>\n",
       ".list-inline {list-style: none; margin:0; padding: 0}\n",
       ".list-inline>li {display: inline-block}\n",
       ".list-inline>li:not(:last-child)::after {content: \"\\00b7\"; padding: 0 .5ex}\n",
       "</style>\n",
       "<ol class=list-inline><li>0.249499322765574</li><li>0.23120123657489</li><li>0.223609311073382</li><li>0.213448270541191</li><li>0.211020474540173</li><li>0.206992412833144</li><li>0.206476615836261</li><li>0.202059206802813</li></ol>\n"
      ],
      "text/latex": [
       "\\begin{enumerate*}\n",
       "\\item 0.249499322765574\n",
       "\\item 0.23120123657489\n",
       "\\item 0.223609311073382\n",
       "\\item 0.213448270541191\n",
       "\\item 0.211020474540173\n",
       "\\item 0.206992412833144\n",
       "\\item 0.206476615836261\n",
       "\\item 0.202059206802813\n",
       "\\end{enumerate*}\n"
      ],
      "text/markdown": [
       "1. 0.249499322765574\n",
       "2. 0.23120123657489\n",
       "3. 0.223609311073382\n",
       "4. 0.213448270541191\n",
       "5. 0.211020474540173\n",
       "6. 0.206992412833144\n",
       "7. 0.206476615836261\n",
       "8. 0.202059206802813\n",
       "\n",
       "\n"
      ],
      "text/plain": [
       "[1] 0.2494993 0.2312012 0.2236093 0.2134483 0.2110205 0.2069924 0.2064766\n",
       "[8] 0.2020592"
      ]
     },
     "metadata": {},
     "output_type": "display_data"
    }
   ],
   "source": [
    "## compute cross-validation error\n",
    "model.ids <- 1:8\n",
    "cv.errors <-  map(model.ids, get_model_formula, models.best, \"lprice\") %>%\n",
    "  map(get_cv_error, data = datos) %>%\n",
    "  unlist()\n",
    "cv.errors"
   ]
  },
  {
   "cell_type": "code",
   "execution_count": 14,
   "metadata": {
    "slideshow": {
     "slide_type": "fragment"
    }
   },
   "outputs": [
    {
     "data": {
      "text/html": [
       "8"
      ],
      "text/latex": [
       "8"
      ],
      "text/markdown": [
       "8"
      ],
      "text/plain": [
       "[1] 8"
      ]
     },
     "metadata": {},
     "output_type": "display_data"
    }
   ],
   "source": [
    "## select the model that minimize the CV error\n",
    "which.min(cv.errors)"
   ]
  },
  {
   "cell_type": "markdown",
   "metadata": {
    "slideshow": {
     "slide_type": "subslide"
    }
   },
   "source": [
    "💻 It can be seen that the model with 8 variables is the best model. It has the lower prediction error. The regression coefficients of this model can be extracted as follow:"
   ]
  },
  {
   "cell_type": "code",
   "execution_count": 15,
   "metadata": {
    "slideshow": {
     "slide_type": "fragment"
    }
   },
   "outputs": [
    {
     "data": {
      "text/html": [
       "<style>\n",
       ".dl-inline {width: auto; margin:0; padding: 0}\n",
       ".dl-inline>dt, .dl-inline>dd {float: none; width: auto; display: inline-block}\n",
       ".dl-inline>dt::after {content: \":\\0020\"; padding-right: .5ex}\n",
       ".dl-inline>dt:not(:first-of-type) {padding-left: .5ex}\n",
       "</style><dl class=dl-inline><dt>(Intercept)</dt><dd>12.6516152789835</dd><dt>lnox</dt><dd>-0.450332967313512</dd><dt>lproptax</dt><dd>-0.227375247035036</dd><dt>crime</dt><dd>-0.0112651464300648</dd><dt>rooms</dt><dd>0.0989982473366945</dd><dt>dist</dt><dd>-0.0488052486950015</dd><dt>radial</dt><dd>0.0114693349197314</dd><dt>stratio</dt><dd>-0.0404184528234111</dd><dt>lowstat</dt><dd>-0.0282684469458025</dd></dl>\n"
      ],
      "text/latex": [
       "\\begin{description*}\n",
       "\\item[(Intercept)] 12.6516152789835\n",
       "\\item[lnox] -0.450332967313512\n",
       "\\item[lproptax] -0.227375247035036\n",
       "\\item[crime] -0.0112651464300648\n",
       "\\item[rooms] 0.0989982473366945\n",
       "\\item[dist] -0.0488052486950015\n",
       "\\item[radial] 0.0114693349197314\n",
       "\\item[stratio] -0.0404184528234111\n",
       "\\item[lowstat] -0.0282684469458025\n",
       "\\end{description*}\n"
      ],
      "text/markdown": [
       "(Intercept)\n",
       ":   12.6516152789835lnox\n",
       ":   -0.450332967313512lproptax\n",
       ":   -0.227375247035036crime\n",
       ":   -0.0112651464300648rooms\n",
       ":   0.0989982473366945dist\n",
       ":   -0.0488052486950015radial\n",
       ":   0.0114693349197314stratio\n",
       ":   -0.0404184528234111lowstat\n",
       ":   -0.0282684469458025\n",
       "\n"
      ],
      "text/plain": [
       "(Intercept)        lnox    lproptax       crime       rooms        dist \n",
       "12.65161528 -0.45033297 -0.22737525 -0.01126515  0.09899825 -0.04880525 \n",
       "     radial     stratio     lowstat \n",
       " 0.01146933 -0.04041845 -0.02826845 "
      ]
     },
     "metadata": {},
     "output_type": "display_data"
    }
   ],
   "source": [
    "coef(models.best, 8)"
   ]
  },
  {
   "cell_type": "markdown",
   "metadata": {
    "slideshow": {
     "slide_type": "subslide"
    }
   },
   "source": [
    "Obviously, you can find the best model using the _forward_ and _backward_ stepwise selection algorithms following the steps above by replacing the user-given names ```model.best``` to either ```model.forward``` or ```model.backwards```, but there is a quicker cleaner way using the ```library(caret)``` package:"
   ]
  },
  {
   "cell_type": "code",
   "execution_count": 16,
   "metadata": {
    "slideshow": {
     "slide_type": "fragment"
    }
   },
   "outputs": [
    {
     "data": {
      "text/html": [
       "<table>\n",
       "<caption>A data.frame: 8 × 7</caption>\n",
       "<thead>\n",
       "\t<tr><th></th><th scope=col>nvmax</th><th scope=col>RMSE</th><th scope=col>Rsquared</th><th scope=col>MAE</th><th scope=col>RMSESD</th><th scope=col>RsquaredSD</th><th scope=col>MAESD</th></tr>\n",
       "\t<tr><th></th><th scope=col>&lt;int&gt;</th><th scope=col>&lt;dbl&gt;</th><th scope=col>&lt;dbl&gt;</th><th scope=col>&lt;dbl&gt;</th><th scope=col>&lt;dbl&gt;</th><th scope=col>&lt;dbl&gt;</th><th scope=col>&lt;dbl&gt;</th></tr>\n",
       "</thead>\n",
       "<tbody>\n",
       "\t<tr><th scope=row>1</th><td>1</td><td>0.2496842</td><td>0.6499758</td><td>0.1854229</td><td>0.04121381</td><td>0.10267640</td><td>0.02369362</td></tr>\n",
       "\t<tr><th scope=row>2</th><td>2</td><td>0.2450988</td><td>0.6614763</td><td>0.1777343</td><td>0.03425180</td><td>0.07622296</td><td>0.01927140</td></tr>\n",
       "\t<tr><th scope=row>3</th><td>3</td><td>0.2325583</td><td>0.6922715</td><td>0.1671111</td><td>0.03628467</td><td>0.07726679</td><td>0.02075568</td></tr>\n",
       "\t<tr><th scope=row>4</th><td>4</td><td>0.2149903</td><td>0.7379170</td><td>0.1534946</td><td>0.02860218</td><td>0.05981698</td><td>0.01595006</td></tr>\n",
       "\t<tr><th scope=row>5</th><td>5</td><td>0.2123247</td><td>0.7448182</td><td>0.1510687</td><td>0.02753551</td><td>0.06044552</td><td>0.01381381</td></tr>\n",
       "\t<tr><th scope=row>6</th><td>6</td><td>0.2115773</td><td>0.7432402</td><td>0.1512529</td><td>0.02847720</td><td>0.05550728</td><td>0.01630882</td></tr>\n",
       "\t<tr><th scope=row>7</th><td>7</td><td>0.2111953</td><td>0.7446154</td><td>0.1523720</td><td>0.03016770</td><td>0.05591514</td><td>0.01663134</td></tr>\n",
       "\t<tr><th scope=row>8</th><td>8</td><td>0.2026665</td><td>0.7648092</td><td>0.1460690</td><td>0.02804981</td><td>0.04519522</td><td>0.01377005</td></tr>\n",
       "</tbody>\n",
       "</table>\n"
      ],
      "text/latex": [
       "A data.frame: 8 × 7\n",
       "\\begin{tabular}{r|lllllll}\n",
       "  & nvmax & RMSE & Rsquared & MAE & RMSESD & RsquaredSD & MAESD\\\\\n",
       "  & <int> & <dbl> & <dbl> & <dbl> & <dbl> & <dbl> & <dbl>\\\\\n",
       "\\hline\n",
       "\t1 & 1 & 0.2496842 & 0.6499758 & 0.1854229 & 0.04121381 & 0.10267640 & 0.02369362\\\\\n",
       "\t2 & 2 & 0.2450988 & 0.6614763 & 0.1777343 & 0.03425180 & 0.07622296 & 0.01927140\\\\\n",
       "\t3 & 3 & 0.2325583 & 0.6922715 & 0.1671111 & 0.03628467 & 0.07726679 & 0.02075568\\\\\n",
       "\t4 & 4 & 0.2149903 & 0.7379170 & 0.1534946 & 0.02860218 & 0.05981698 & 0.01595006\\\\\n",
       "\t5 & 5 & 0.2123247 & 0.7448182 & 0.1510687 & 0.02753551 & 0.06044552 & 0.01381381\\\\\n",
       "\t6 & 6 & 0.2115773 & 0.7432402 & 0.1512529 & 0.02847720 & 0.05550728 & 0.01630882\\\\\n",
       "\t7 & 7 & 0.2111953 & 0.7446154 & 0.1523720 & 0.03016770 & 0.05591514 & 0.01663134\\\\\n",
       "\t8 & 8 & 0.2026665 & 0.7648092 & 0.1460690 & 0.02804981 & 0.04519522 & 0.01377005\\\\\n",
       "\\end{tabular}\n"
      ],
      "text/markdown": [
       "\n",
       "A data.frame: 8 × 7\n",
       "\n",
       "| <!--/--> | nvmax &lt;int&gt; | RMSE &lt;dbl&gt; | Rsquared &lt;dbl&gt; | MAE &lt;dbl&gt; | RMSESD &lt;dbl&gt; | RsquaredSD &lt;dbl&gt; | MAESD &lt;dbl&gt; |\n",
       "|---|---|---|---|---|---|---|---|\n",
       "| 1 | 1 | 0.2496842 | 0.6499758 | 0.1854229 | 0.04121381 | 0.10267640 | 0.02369362 |\n",
       "| 2 | 2 | 0.2450988 | 0.6614763 | 0.1777343 | 0.03425180 | 0.07622296 | 0.01927140 |\n",
       "| 3 | 3 | 0.2325583 | 0.6922715 | 0.1671111 | 0.03628467 | 0.07726679 | 0.02075568 |\n",
       "| 4 | 4 | 0.2149903 | 0.7379170 | 0.1534946 | 0.02860218 | 0.05981698 | 0.01595006 |\n",
       "| 5 | 5 | 0.2123247 | 0.7448182 | 0.1510687 | 0.02753551 | 0.06044552 | 0.01381381 |\n",
       "| 6 | 6 | 0.2115773 | 0.7432402 | 0.1512529 | 0.02847720 | 0.05550728 | 0.01630882 |\n",
       "| 7 | 7 | 0.2111953 | 0.7446154 | 0.1523720 | 0.03016770 | 0.05591514 | 0.01663134 |\n",
       "| 8 | 8 | 0.2026665 | 0.7648092 | 0.1460690 | 0.02804981 | 0.04519522 | 0.01377005 |\n",
       "\n"
      ],
      "text/plain": [
       "  nvmax RMSE      Rsquared  MAE       RMSESD     RsquaredSD MAESD     \n",
       "1 1     0.2496842 0.6499758 0.1854229 0.04121381 0.10267640 0.02369362\n",
       "2 2     0.2450988 0.6614763 0.1777343 0.03425180 0.07622296 0.01927140\n",
       "3 3     0.2325583 0.6922715 0.1671111 0.03628467 0.07726679 0.02075568\n",
       "4 4     0.2149903 0.7379170 0.1534946 0.02860218 0.05981698 0.01595006\n",
       "5 5     0.2123247 0.7448182 0.1510687 0.02753551 0.06044552 0.01381381\n",
       "6 6     0.2115773 0.7432402 0.1512529 0.02847720 0.05550728 0.01630882\n",
       "7 7     0.2111953 0.7446154 0.1523720 0.03016770 0.05591514 0.01663134\n",
       "8 8     0.2026665 0.7648092 0.1460690 0.02804981 0.04519522 0.01377005"
      ]
     },
     "metadata": {},
     "output_type": "display_data"
    }
   ],
   "source": [
    "## set seed for reproducibility\n",
    "set.seed(42)\n",
    "## set up repeated 10-fold cross-validation\n",
    "train.control <- trainControl(method = \"cv\", number = 10)\n",
    "# Train the model\n",
    "step.model <- train(lprice ~., data = datos,\n",
    "                    method = \"leapBackward\", \n",
    "                    tuneGrid = data.frame(nvmax = 1:8),\n",
    "                    trControl = train.control\n",
    "                    )\n",
    "step.model$results"
   ]
  },
  {
   "cell_type": "markdown",
   "metadata": {
    "slideshow": {
     "slide_type": "fragment"
    }
   },
   "source": [
    "💻 If we are interested in using a _forward_ stepwise selection algorithm we simply need to change the method in the code snippet above to ```method = \"leapForward\"```."
   ]
  },
  {
   "cell_type": "markdown",
   "metadata": {
    "slideshow": {
     "slide_type": "subslide"
    }
   },
   "source": [
    "💻 The following set of commands identify the _best_ model in terms of the calculated $RMSE$:"
   ]
  },
  {
   "cell_type": "code",
   "execution_count": 17,
   "metadata": {
    "slideshow": {
     "slide_type": "fragment"
    }
   },
   "outputs": [
    {
     "data": {
      "text/html": [
       "<table>\n",
       "<caption>A data.frame: 1 × 1</caption>\n",
       "<thead>\n",
       "\t<tr><th></th><th scope=col>nvmax</th></tr>\n",
       "\t<tr><th></th><th scope=col>&lt;int&gt;</th></tr>\n",
       "</thead>\n",
       "<tbody>\n",
       "\t<tr><th scope=row>8</th><td>8</td></tr>\n",
       "</tbody>\n",
       "</table>\n"
      ],
      "text/latex": [
       "A data.frame: 1 × 1\n",
       "\\begin{tabular}{r|l}\n",
       "  & nvmax\\\\\n",
       "  & <int>\\\\\n",
       "\\hline\n",
       "\t8 & 8\\\\\n",
       "\\end{tabular}\n"
      ],
      "text/markdown": [
       "\n",
       "A data.frame: 1 × 1\n",
       "\n",
       "| <!--/--> | nvmax &lt;int&gt; |\n",
       "|---|---|\n",
       "| 8 | 8 |\n",
       "\n"
      ],
      "text/plain": [
       "  nvmax\n",
       "8 8    "
      ]
     },
     "metadata": {},
     "output_type": "display_data"
    }
   ],
   "source": [
    "## retrieving the best model in terms of 10-fold CV RMSE\n",
    "step.model$bestTune"
   ]
  },
  {
   "cell_type": "code",
   "execution_count": 18,
   "metadata": {
    "slideshow": {
     "slide_type": "fragment"
    }
   },
   "outputs": [
    {
     "data": {
      "text/plain": [
       "Subset selection object\n",
       "8 Variables  (and intercept)\n",
       "         Forced in Forced out\n",
       "lnox         FALSE      FALSE\n",
       "lproptax     FALSE      FALSE\n",
       "crime        FALSE      FALSE\n",
       "rooms        FALSE      FALSE\n",
       "dist         FALSE      FALSE\n",
       "radial       FALSE      FALSE\n",
       "stratio      FALSE      FALSE\n",
       "lowstat      FALSE      FALSE\n",
       "1 subsets of each size up to 8\n",
       "Selection Algorithm: backward\n",
       "         lnox lproptax crime rooms dist radial stratio lowstat\n",
       "1  ( 1 ) \" \"  \" \"      \" \"   \" \"   \" \"  \" \"    \" \"     \"*\"    \n",
       "2  ( 1 ) \" \"  \" \"      \"*\"   \" \"   \" \"  \" \"    \" \"     \"*\"    \n",
       "3  ( 1 ) \" \"  \" \"      \"*\"   \"*\"   \" \"  \" \"    \" \"     \"*\"    \n",
       "4  ( 1 ) \" \"  \" \"      \"*\"   \"*\"   \" \"  \" \"    \"*\"     \"*\"    \n",
       "5  ( 1 ) \" \"  \" \"      \"*\"   \"*\"   \"*\"  \" \"    \"*\"     \"*\"    \n",
       "6  ( 1 ) \"*\"  \" \"      \"*\"   \"*\"   \"*\"  \" \"    \"*\"     \"*\"    \n",
       "7  ( 1 ) \"*\"  \" \"      \"*\"   \"*\"   \"*\"  \"*\"    \"*\"     \"*\"    \n",
       "8  ( 1 ) \"*\"  \"*\"      \"*\"   \"*\"   \"*\"  \"*\"    \"*\"     \"*\"    "
      ]
     },
     "metadata": {},
     "output_type": "display_data"
    }
   ],
   "source": [
    "## looking at the specification of the best model\n",
    "summary(step.model$finalModel)"
   ]
  },
  {
   "cell_type": "code",
   "execution_count": 19,
   "metadata": {
    "slideshow": {
     "slide_type": "fragment"
    }
   },
   "outputs": [
    {
     "data": {
      "text/html": [
       "<style>\n",
       ".dl-inline {width: auto; margin:0; padding: 0}\n",
       ".dl-inline>dt, .dl-inline>dd {float: none; width: auto; display: inline-block}\n",
       ".dl-inline>dt::after {content: \":\\0020\"; padding-right: .5ex}\n",
       ".dl-inline>dt:not(:first-of-type) {padding-left: .5ex}\n",
       "</style><dl class=dl-inline><dt>(Intercept)</dt><dd>12.6516152789835</dd><dt>lnox</dt><dd>-0.450332967313512</dd><dt>lproptax</dt><dd>-0.227375247035036</dd><dt>crime</dt><dd>-0.0112651464300648</dd><dt>rooms</dt><dd>0.0989982473366947</dd><dt>dist</dt><dd>-0.0488052486950015</dd><dt>radial</dt><dd>0.0114693349197314</dd><dt>stratio</dt><dd>-0.0404184528234111</dd><dt>lowstat</dt><dd>-0.0282684469458024</dd></dl>\n"
      ],
      "text/latex": [
       "\\begin{description*}\n",
       "\\item[(Intercept)] 12.6516152789835\n",
       "\\item[lnox] -0.450332967313512\n",
       "\\item[lproptax] -0.227375247035036\n",
       "\\item[crime] -0.0112651464300648\n",
       "\\item[rooms] 0.0989982473366947\n",
       "\\item[dist] -0.0488052486950015\n",
       "\\item[radial] 0.0114693349197314\n",
       "\\item[stratio] -0.0404184528234111\n",
       "\\item[lowstat] -0.0282684469458024\n",
       "\\end{description*}\n"
      ],
      "text/markdown": [
       "(Intercept)\n",
       ":   12.6516152789835lnox\n",
       ":   -0.450332967313512lproptax\n",
       ":   -0.227375247035036crime\n",
       ":   -0.0112651464300648rooms\n",
       ":   0.0989982473366947dist\n",
       ":   -0.0488052486950015radial\n",
       ":   0.0114693349197314stratio\n",
       ":   -0.0404184528234111lowstat\n",
       ":   -0.0282684469458024\n",
       "\n"
      ],
      "text/plain": [
       "(Intercept)        lnox    lproptax       crime       rooms        dist \n",
       "12.65161528 -0.45033297 -0.22737525 -0.01126515  0.09899825 -0.04880525 \n",
       "     radial     stratio     lowstat \n",
       " 0.01146933 -0.04041845 -0.02826845 "
      ]
     },
     "metadata": {},
     "output_type": "display_data"
    }
   ],
   "source": [
    "## looking at the estimated coefficient of the best model\n",
    "coef(step.model$finalModel, 8)"
   ]
  }
 ],
 "metadata": {
  "hide_input": false,
  "kernelspec": {
   "display_name": "R",
   "language": "R",
   "name": "ir"
  },
  "language_info": {
   "codemirror_mode": "r",
   "file_extension": ".r",
   "mimetype": "text/x-r-source",
   "name": "R",
   "pygments_lexer": "r",
   "version": "4.0.3"
  },
  "latex_envs": {
   "LaTeX_envs_menu_present": true,
   "autoclose": false,
   "autocomplete": true,
   "bibliofile": "biblio.bib",
   "cite_by": "apalike",
   "current_citInitial": 1,
   "eqLabelWithNumbers": true,
   "eqNumInitial": 1,
   "hotkeys": {
    "equation": "Ctrl-E",
    "itemize": "Ctrl-I"
   },
   "labels_anchors": false,
   "latex_user_defs": false,
   "report_style_numbering": false,
   "user_envs_cfg": false
  }
 },
 "nbformat": 4,
 "nbformat_minor": 4
}
