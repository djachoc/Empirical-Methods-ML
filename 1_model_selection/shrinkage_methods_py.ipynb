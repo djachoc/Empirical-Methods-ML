{
 "cells": [
  {
   "cell_type": "markdown",
   "metadata": {},
   "source": [
    "# Shrinkage Methods\n",
    "\n",
    "The subset selection methods described before involves using OLS to fit a linear model that contains a subset of the predictors. As an alternative, we can fit a model containing _all_ predictors using a technique that constrains or 'regularizes' the coefficient estimates, or equivalently, that _shrinks_ the coefficient estimates towards zero.\n",
    "\n",
    "💻 Previously we were interested in finding the most parsimonious model for the following data set:"
   ]
  },
  {
   "cell_type": "code",
   "execution_count": 1,
   "metadata": {},
   "outputs": [
    {
     "data": {
      "text/html": [
       "<div>\n",
       "<style scoped>\n",
       "    .dataframe tbody tr th:only-of-type {\n",
       "        vertical-align: middle;\n",
       "    }\n",
       "\n",
       "    .dataframe tbody tr th {\n",
       "        vertical-align: top;\n",
       "    }\n",
       "\n",
       "    .dataframe thead th {\n",
       "        text-align: right;\n",
       "    }\n",
       "</style>\n",
       "<table border=\"1\" class=\"dataframe\">\n",
       "  <thead>\n",
       "    <tr style=\"text-align: right;\">\n",
       "      <th></th>\n",
       "      <th>price</th>\n",
       "      <th>crime</th>\n",
       "      <th>nox</th>\n",
       "      <th>rooms</th>\n",
       "      <th>dist</th>\n",
       "      <th>radial</th>\n",
       "      <th>proptax</th>\n",
       "      <th>stratio</th>\n",
       "      <th>lowstat</th>\n",
       "      <th>lprice</th>\n",
       "      <th>lnox</th>\n",
       "      <th>lproptax</th>\n",
       "    </tr>\n",
       "  </thead>\n",
       "  <tbody>\n",
       "    <tr>\n",
       "      <th>0</th>\n",
       "      <td>24000.0</td>\n",
       "      <td>0.006</td>\n",
       "      <td>5.38</td>\n",
       "      <td>6.57</td>\n",
       "      <td>4.09</td>\n",
       "      <td>1.0</td>\n",
       "      <td>29.600000</td>\n",
       "      <td>15.300000</td>\n",
       "      <td>4.98</td>\n",
       "      <td>10.085810</td>\n",
       "      <td>1.682688</td>\n",
       "      <td>5.690360</td>\n",
       "    </tr>\n",
       "    <tr>\n",
       "      <th>1</th>\n",
       "      <td>21599.0</td>\n",
       "      <td>0.027</td>\n",
       "      <td>4.69</td>\n",
       "      <td>6.42</td>\n",
       "      <td>4.97</td>\n",
       "      <td>2.0</td>\n",
       "      <td>24.200001</td>\n",
       "      <td>17.799999</td>\n",
       "      <td>9.14</td>\n",
       "      <td>9.980402</td>\n",
       "      <td>1.545433</td>\n",
       "      <td>5.488938</td>\n",
       "    </tr>\n",
       "    <tr>\n",
       "      <th>2</th>\n",
       "      <td>34700.0</td>\n",
       "      <td>0.027</td>\n",
       "      <td>4.69</td>\n",
       "      <td>7.18</td>\n",
       "      <td>4.97</td>\n",
       "      <td>2.0</td>\n",
       "      <td>24.200001</td>\n",
       "      <td>17.799999</td>\n",
       "      <td>4.03</td>\n",
       "      <td>10.454500</td>\n",
       "      <td>1.545433</td>\n",
       "      <td>5.488938</td>\n",
       "    </tr>\n",
       "    <tr>\n",
       "      <th>3</th>\n",
       "      <td>33400.0</td>\n",
       "      <td>0.032</td>\n",
       "      <td>4.58</td>\n",
       "      <td>7.00</td>\n",
       "      <td>6.06</td>\n",
       "      <td>3.0</td>\n",
       "      <td>22.200001</td>\n",
       "      <td>18.700001</td>\n",
       "      <td>2.94</td>\n",
       "      <td>10.416310</td>\n",
       "      <td>1.521699</td>\n",
       "      <td>5.402678</td>\n",
       "    </tr>\n",
       "    <tr>\n",
       "      <th>4</th>\n",
       "      <td>36199.0</td>\n",
       "      <td>0.069</td>\n",
       "      <td>4.58</td>\n",
       "      <td>7.15</td>\n",
       "      <td>6.06</td>\n",
       "      <td>3.0</td>\n",
       "      <td>22.200001</td>\n",
       "      <td>18.700001</td>\n",
       "      <td>5.33</td>\n",
       "      <td>10.496790</td>\n",
       "      <td>1.521699</td>\n",
       "      <td>5.402678</td>\n",
       "    </tr>\n",
       "  </tbody>\n",
       "</table>\n",
       "</div>"
      ],
      "text/plain": [
       "     price  crime   nox  rooms  dist  radial    proptax    stratio  lowstat  \\\n",
       "0  24000.0  0.006  5.38   6.57  4.09     1.0  29.600000  15.300000     4.98   \n",
       "1  21599.0  0.027  4.69   6.42  4.97     2.0  24.200001  17.799999     9.14   \n",
       "2  34700.0  0.027  4.69   7.18  4.97     2.0  24.200001  17.799999     4.03   \n",
       "3  33400.0  0.032  4.58   7.00  6.06     3.0  22.200001  18.700001     2.94   \n",
       "4  36199.0  0.069  4.58   7.15  6.06     3.0  22.200001  18.700001     5.33   \n",
       "\n",
       "      lprice      lnox  lproptax  \n",
       "0  10.085810  1.682688  5.690360  \n",
       "1   9.980402  1.545433  5.488938  \n",
       "2  10.454500  1.545433  5.488938  \n",
       "3  10.416310  1.521699  5.402678  \n",
       "4  10.496790  1.521699  5.402678  "
      ]
     },
     "execution_count": 1,
     "metadata": {},
     "output_type": "execute_result"
    }
   ],
   "source": [
    "# env\n",
    "import pandas as pd\n",
    "import numpy as np\n",
    "import patsy\n",
    "\n",
    "# rd df\n",
    "df = pd.read_stata('http://fmwww.bc.edu/ec-p/data/wooldridge/hprice2.dta')\n",
    "df.head()"
   ]
  },
  {
   "cell_type": "markdown",
   "metadata": {},
   "source": [
    "We actually found out that the chosen model by 'best,' 'forward,' and 'backward' subset search was\n",
    "\n",
    "$$\n",
    "\\texttt{lprice}=\\beta_{0}+\\beta_{1}\\texttt{lnox}+\\beta_{2}\\texttt{lproptax}+\\beta_{3}\\texttt{crime}+\\beta_{4}\\texttt{rooms}+\\beta_{5}\\texttt{dist}+\\beta_{6}\\texttt{radial}+\\beta_{7}\\texttt{stratio}+\\beta_{8}\\texttt{lowstat}+e\n",
    "$$\n",
    "\n",
    "However this model excludes the possibility of interaction terms among the predictors. Instead consider a most complete potential model with _all_ possible cross-products among the regressors _after_ they are re-center at their mean, i.e.,\n",
    "\n",
    "$$\n",
    "\\begin{aligned}\n",
    "\\texttt{lprice}&=\\beta_{0}+\\beta_{1}\\texttt{lnox}+\\beta_{2}\\texttt{lproptax}+\\beta_{3}\\texttt{crime}+\\beta_{4}\\texttt{rooms}+\\beta_{5}\\texttt{dist}+\\beta_{6}\\texttt{radial}\\\\\n",
    "&+\\beta_{7}\\texttt{stratio}+\\beta_{8}\\texttt{lowstat}+\\beta_{9}(\\texttt{lnox}-\\mu_{\\texttt{lnox}})(\\texttt{lproptax}-\\mu_{\\texttt{lproptax}})\\\\\n",
    "&+\\beta_{10}(\\texttt{lnox}-\\mu_{\\texttt{lnox}})(\\texttt{crime}-\\mu_{\\texttt{crime}})+\\ldots+\\beta_{35}(\\texttt{radial}-\\mu_{\\texttt{radial}})(\\texttt{lowstat}-\\mu_{\\texttt{lowstat}})\\\\\n",
    "&+\\beta_{36}(\\texttt{stratio}-\\mu_{\\texttt{stratio}})(\\texttt{lowstat}-\\mu_{\\texttt{lowstat}})+e.\n",
    "\\end{aligned}\n",
    "$$\n",
    "\n",
    "In this model with over 4 times the original number of predictors, one has that $\\beta_{2}$ represents the constant elasticity of home prices with respect to property tax at the _mean_ value, i.e. $\\mu_{\\texttt{predictor}}$, of the other $\\texttt{predictor}$. Similar interpretations can be given to the coefficients multiplying the other predictors.\n",
    "\n",
    "✍🏽 One can replace $\\mu_{\\texttt{predictor}}$ with other values of the $\\texttt{predictor}$ that may be of interest."
   ]
  },
  {
   "cell_type": "markdown",
   "metadata": {},
   "source": [
    "💻 This block will add _all_ cross-products among the _demeaned_ set of predictors to the original data frame."
   ]
  },
  {
   "cell_type": "code",
   "execution_count": 2,
   "metadata": {},
   "outputs": [
    {
     "name": "stdout",
     "output_type": "stream",
     "text": [
      "['price', 'crime', 'nox', 'rooms', 'dist', 'radial', 'proptax', 'stratio', 'lowstat', 'lprice', 'lnox', 'lproptax', 'lnox_dmean', 'lproptax_dmean', 'crime_dmean', 'rooms_dmean', 'dist_dmean', 'radial_dmean', 'stratio_dmean', 'lowstat_dmean']\n"
     ]
    }
   ],
   "source": [
    "# mk demeaned vars\n",
    "tmp = ['lnox','lproptax','crime','rooms','dist','radial','stratio','lowstat']\n",
    "for x in tmp:\n",
    "    df[x+'_dmean'] = df[x] - df[x].mean(skipna = True)\n",
    "print(list(df))"
   ]
  },
  {
   "cell_type": "markdown",
   "metadata": {},
   "source": [
    "💻 This code will create both model specifications"
   ]
  },
  {
   "cell_type": "code",
   "execution_count": 3,
   "metadata": {},
   "outputs": [
    {
     "name": "stdout",
     "output_type": "stream",
     "text": [
      "lprice ~ -1 +lnox+lproptax+crime+rooms+dist+radial+stratio+lowstat\n",
      "lprice ~ -1 +lnox+lproptax+crime+rooms+dist+radial+stratio+lowstat + (lnox_dmean:lproptax_dmean)+(lnox_dmean:crime_dmean)+(lnox_dmean:rooms_dmean)+(lnox_dmean:dist_dmean)+(lnox_dmean:radial_dmean)+(lnox_dmean:stratio_dmean)+(lnox_dmean:lowstat_dmean)+(lproptax_dmean:crime_dmean)+(lproptax_dmean:rooms_dmean)+(lproptax_dmean:dist_dmean)+(lproptax_dmean:radial_dmean)+(lproptax_dmean:stratio_dmean)+(lproptax_dmean:lowstat_dmean)+(crime_dmean:rooms_dmean)+(crime_dmean:dist_dmean)+(crime_dmean:radial_dmean)+(crime_dmean:stratio_dmean)+(crime_dmean:lowstat_dmean)+(rooms_dmean:dist_dmean)+(rooms_dmean:radial_dmean)+(rooms_dmean:stratio_dmean)+(rooms_dmean:lowstat_dmean)+(dist_dmean:radial_dmean)+(dist_dmean:stratio_dmean)+(dist_dmean:lowstat_dmean)+(radial_dmean:stratio_dmean)+(radial_dmean:lowstat_dmean)+(stratio_dmean:lowstat_dmean)\n"
     ]
    }
   ],
   "source": [
    "# mk interact trms\n",
    "tmpstr = []\n",
    "for x in range(len(tmp)):\n",
    "    for y in tmp[x+1:]:\n",
    "        if x != y:\n",
    "            tmpstr.append('('+tmp[x]+'_dmean:'+y+'_dmean'+')')\n",
    "    \n",
    "# mk specifications str\n",
    "f1 = 'lprice ~ -1 +' + ''.join([x+'+' for x in tmp])[:-1]\n",
    "f2 = f1 + ' + ' + ''.join([x+'+' for x in tmpstr])[:-1] \n",
    "\n",
    "# prt specifications str\n",
    "print(f1)\n",
    "print(f2)"
   ]
  },
  {
   "cell_type": "markdown",
   "metadata": {},
   "source": [
    "💻 This code uses the ```patsy``` library to create the corresponding outcome vector and design matrices for both specifications."
   ]
  },
  {
   "cell_type": "code",
   "execution_count": 4,
   "metadata": {},
   "outputs": [],
   "source": [
    "y1, X1 = patsy.dmatrices(f1, data=df, return_type='dataframe')\n",
    "y2, X2 = patsy.dmatrices(f2, data=df, return_type='dataframe')"
   ]
  },
  {
   "cell_type": "markdown",
   "metadata": {},
   "source": [
    "💻 This code will create the indices for the train (80%) and validation (20%) data sets."
   ]
  },
  {
   "cell_type": "code",
   "execution_count": 5,
   "metadata": {},
   "outputs": [],
   "source": [
    "from sklearn.model_selection import train_test_split\n",
    "X1_train, X1_test, y1_train, y1_test = train_test_split(X1, y1, test_size=0.20, random_state=42)\n",
    "X2_train, X2_test, y2_train, y2_test = train_test_split(X2, y2, test_size=0.20, random_state=42)"
   ]
  },
  {
   "cell_type": "markdown",
   "metadata": {},
   "source": [
    "## _Ridge_ Regression\n",
    "\n",
    "The _traditional_ motivation is to reduce the degree of collinearity among the regressors. The _modern_ motivation is regularization of high-dimensional and ill-posed inverse problems.\n",
    "\n",
    "<p style='text-align: right;'> <a href=\"https://en.wikipedia.org/wiki/Tikhonov_regularization\" style=\"color: #cc0000\">Tikhonov Regularization</a></p>\n",
    "\n",
    "#### Traditional Motivation\n",
    "\n",
    "Take a linear regression model $y_{i}=\\mathbf{x}_{i}^{\\prime} \\boldsymbol{\\beta}+e_{i}$. In \"machine learning\" applications the dimension of $\\boldsymbol{\\beta}$ can be very large, and often the regressors are highly correlated. In these cases the least squares estimator may be undefined and/or the $\\mathbf{X}^{\\prime}\\mathbf{X}$ matrix ill-conditioned, which can mean that the least squares coefficient estimates are numerically unreliable. As a numerical solution to this dilemma, Hoerl and Kennard (1970) proposed the ridge regression estimator\n",
    "\n",
    "$$\\widehat{\\boldsymbol{\\beta}}_{\\text {ridge}}=\\left(\\mathbf{X}^{\\prime} \\mathbf{X}+\\lambda \\mathbf{I}_{k}\\right)^{-1} \\mathbf{X}^{\\prime} \\mathbf{y}$$\n",
    "\n",
    "where <span style=\"color:blue\">$\\lambda>0$</span> is a shrinkage parameter and treated later on as a <span style=\"color:blue\">tuning parameter</span>.\n",
    "\n",
    "✍🏽 The ridge regression estimator has the property that it is well-defined and does not suffer from multicollinearity or ill-conditioning so long as $\\lambda>0$. This even holds if $k>n$! That is, the ridge regression estimator can be calculated even when the number of regressors exceeds the sample size.\n",
    "\n",
    "***\n",
    "To see how $\\lambda>0$ ensures that the inverse problem is solved, use the spectral decomposition to write $\\mathbf{X}^{\\prime} \\mathbf{X}=\\mathbf{H}^{\\prime}\\mathbf{D}\\mathbf{H}$ where $\\mathbf{H}$ is orthonormal and $\\mathbf{D}=\\text{diag}\\left\\{r_{1}, \\ldots, r_{k}\\right\\}$ is a diagonal matrix with the eigenvalues $r_{j}$ of $\\mathbf{X}^{\\prime} \\mathbf{X}$ on the diagonal. Let $\\Lambda=\\lambda \\mathbf{I}_{k}$. We can write\n",
    "$$\n",
    "\\mathbf{X}^{\\prime} \\mathbf{X}+\\lambda \\mathbf{I}_{k}=\\mathbf{H}^{\\prime} \\mathbf{D} \\mathbf{H}+\\lambda \\mathbf{H}^{\\prime} \\mathbf{H}=\\mathbf{H}^{\\prime} \\mathbf{D} \\mathbf{H}+\\mathbf{H}^{\\prime} \\Lambda \\mathbf{H}=\\mathbf{H}^{\\prime}(\\mathbf{D}+\\Lambda) \\mathbf{H}\n",
    "$$\n",
    "which has eigenvalues $r_{j}+\\lambda>0$. Thus all eigenvalues are bounded away from zero so $\\mathbf{X}^{\\prime} \\mathbf{X}+\\lambda \\mathbf{I}_{k}$ is full\n",
    "rank and therefore invertible.\n",
    "\n",
    "<p style='text-align: right;'> <a href=\"https://en.wikipedia.org/wiki/Eigendecomposition_of_a_matrix\" style=\"color: #cc0000\">Spectral Decomposition of a Matrix</a></p>\n",
    "\n",
    "<p style='text-align: right;'> <a href=\"https://en.wikipedia.org/wiki/Orthogonal_matrix\" style=\"color: #cc0000\">Orthonormal Matrix</a></p>\n",
    "\n",
    "<p style='text-align: right;'> <a href=\"https://en.wikipedia.org/wiki/Diagonal_matrix\" style=\"color: #cc0000\">Diagonal Matrix</a></p>\n",
    "\n",
    "***\n",
    "\n",
    "#### Modern Motivation\n",
    "\n",
    "The second motivation is based on penalization. When $\\mathbf{X}^{\\prime}\\mathbf{X}$ is ill-conditioned computing its inverse is \"ill-posed.\" Techniques to deal with ill-posed estimators are called \"regularization\" and a leading method is penalization. Consider the penalized regression criterion (Sum of Squared Errors)\n",
    "\n",
    "$$\n",
    "\\begin{aligned}\\text{SSE}_2(\\mathbf{b}, \\lambda) &=(\\mathbf{y}-\\mathbf{X} \\mathbf{b})^{\\prime}(\\mathbf{y}-\\mathbf{X} \\mathbf{b})+\\lambda \\mathbf{b}^{\\prime} \\mathbf{b} \\\\ &=\\|\\mathbf{y}-\\mathbf{X} \\mathbf{b}\\|_{2}^{2}+\\lambda\\|\\mathbf{b}\\|_{2}^{2} \\end{aligned}\n",
    "$$\n",
    "\n",
    "where $\\|\\mathbf{a}\\|_{2}=\\left(\\mathbf{a}^{\\prime} \\mathbf{a}\\right)^{1 / 2}$ is the $L_2$-norm. The minimizer of $\\mathrm{SSE}_2(\\mathbf{b}, \\lambda)$ is a regularized least squares estimator. The first order condition for minimization of $\\mathrm{SSE}_{2}(\\mathbf{b}, \\lambda)$ over $\\mathbf{b}$ is\n",
    "\n",
    "$$\n",
    "-2 \\mathbf{X}^{\\prime}(\\mathbf{y}-X \\mathbf{b})+2 \\lambda \\mathbf{b}=0\n",
    "$$\n",
    "\n",
    "<p style='text-align: right;'> <a href=\"https://en.wikipedia.org/wiki/Euclidean_distance\" style=\"color: #cc0000\">$L_2$-norm</a></p>\n",
    "\n",
    "The solution is $\\widehat{\\boldsymbol{\\beta}}_{\\text {ridge }}$. Thus the regularized (penalized) least squares estimator equals ridge regression. This shows that the ridge regression estimator minimizes the sum of squared errors subject to a penalty on the $L_2$-norm magnitude of the regression coefficient. Penalizing large coefficient vectors keeps the latter from being too large and erratic. _Hence one interpretation of $\\lambda$ is the degree of penalty on the\n",
    "magnitude of the coefficient vector._\n",
    "\n",
    "***\n",
    "Minimization subject to a penalty has a dual representation as constrained minimization. The latter is\n",
    "\n",
    "$$\n",
    "\\min _{\\mathbf{b}}(\\mathbf{y}-\\mathbf{X} \\mathbf{b})^{\\prime}(\\mathbf{y}-\\mathbf{X} \\mathbf{b})\n",
    "$$\n",
    "\n",
    "subject to $\\mathbf{b}^{\\prime} \\mathbf{b} \\leq \\tau$, for some $\\tau>0$. To see the connection, the Lagrangian for the constrained problem is\n",
    "$$\n",
    "\\min _{\\mathbf{b}}(\\mathbf{y}-\\mathbf{X} \\mathbf{b})^{\\prime}(\\mathbf{y}-\\mathbf{X} \\mathbf{b})+\\lambda\\left(\\mathbf{b}^{\\prime} \\mathbf{b}-\\tau\\right),\n",
    "$$\n",
    "\n",
    "where $\\lambda$ is a [Lagrange multiplier](https://en.wikipedia.org/wiki/Lagrange_multiplier).\n",
    "\n",
    "The practical difference between the penalization and constraint problems is that in the first you specify the ridge parameter $\\lambda$ while in the second you specify the constraint $\\tau$. They are connected, since the values of $\\lambda$ and $\\tau$ satisfy the relationship\n",
    "\n",
    "$$\n",
    "\\mathbf{y}^{\\prime} \\mathbf{X}\\left(\\mathbf{X}^{\\prime} \\mathbf{X}+\\lambda \\mathbf{I}_{k}\\right)^{-1}\\left(\\mathbf{X}^{\\prime} \\mathbf{X}+\\lambda \\mathbf{I}_{k}\\right)^{-1} \\mathbf{X}^{\\prime} \\mathbf{y}=\\tau.\n",
    "$$\n",
    "\n",
    "Thus to find $\\lambda$ given $\\tau$ it is sufficient to (numerically) solve this equation.\n",
    "***\n",
    "\n",
    "<img src=\"img/ridge.png\" alt=\"drawing\" width=\"500\"/>\n",
    "\n",
    "This figure help us visualize the constraint problem as it plots an example in $\\mathbb{R}^2$. The constraint set $\\mathbf{b}^\\prime\\mathbf{b}\\le\\tau$ is displayed as the ball about the origin and the contour sets of the $\\mathrm{SSE}$ are displayed as ellipses. The least squares estimator is the center of the ellipses, while the ridge regression\n",
    "estimator is the point on the circle where the contour is tangent. This shrinks the least squares coefficient towards the zero vector. It shrinks along a trajectory determined by the degree of correlation between the variables. This trajectory is displayed with the dashed lines, marked as 'Ridge path'. This is the sequence of ridge regression coefficients obtained as $\\lambda$ (or $\\tau$) is varied from small to large. When $\\lambda=0$ (or $\\tau$ is large) the ridge estimator equals least squares. For small $\\lambda$ the ridge estimator moves slightly towards the origin by sliding along the ridge of the contour set. As $\\lambda$ increases the ridge estimator takes a more direct path towards the origin.\n",
    "\n",
    "<p style='text-align: right;'> <a href=\"https://en.wikipedia.org/wiki/Real_coordinate_space\" style=\"color: #cc0000\">$\\mathbb{R}^2$</a></p>\n",
    "\n",
    "💻 In these set of commands the Ridge estimators are calculated for a sequence of values of $\\lambda$ and we observe their performance"
   ]
  },
  {
   "cell_type": "code",
   "execution_count": 6,
   "metadata": {},
   "outputs": [],
   "source": [
    "from sklearn.linear_model import Ridge, RidgeCV\n",
    "from sklearn.metrics import mean_squared_error"
   ]
  },
  {
   "cell_type": "markdown",
   "metadata": {},
   "source": [
    "💻 The ```Ridge()``` function has an alpha argument ($\\lambda$, but with a different name!) that is used to tune the model. We'll generate an array of alpha values ranging from very big to very small, essentially covering the full range of scenarios from the null model containing only the intercept, to the least squares fit:"
   ]
  },
  {
   "cell_type": "code",
   "execution_count": 7,
   "metadata": {},
   "outputs": [
    {
     "data": {
      "text/plain": [
       "array([0.        , 0.21052632, 0.42105263, 0.63157895, 0.84210526,\n",
       "       1.05263158, 1.26315789, 1.47368421, 1.68421053, 1.89473684,\n",
       "       2.10526316, 2.31578947, 2.52631579, 2.73684211, 2.94736842,\n",
       "       3.15789474, 3.36842105, 3.57894737, 3.78947368, 4.        ])"
      ]
     },
     "execution_count": 7,
     "metadata": {},
     "output_type": "execute_result"
    }
   ],
   "source": [
    "alphas = np.linspace(0,4,20)\n",
    "alphas"
   ]
  },
  {
   "cell_type": "markdown",
   "metadata": {},
   "source": [
    "📝 The option `normalize` below divides _each_ feature, $x_l$, by its length $||x_l||_2^2$. Then the resulting _normalized_ feature lies between 0 and 1."
   ]
  },
  {
   "cell_type": "code",
   "execution_count": 8,
   "metadata": {},
   "outputs": [],
   "source": [
    "ridge = Ridge(normalize = True)\n",
    "coefs = []\n",
    "\n",
    "for a in alphas:\n",
    "    ridge.set_params(alpha = a,fit_intercept=True)\n",
    "    ridge.fit(X2, y2)\n",
    "    coefs.append(ridge.coef_)\n",
    "\n",
    "coefs = pd.DataFrame(np.array(coefs).transpose(2,0,1).reshape(36,-1))"
   ]
  },
  {
   "cell_type": "markdown",
   "metadata": {},
   "source": [
    "We expect the coefficient estimates to be much smaller when a large value of alpha is used, as compared to when a small value of alpha is used. Let's plot and find out:"
   ]
  },
  {
   "cell_type": "code",
   "execution_count": 9,
   "metadata": {},
   "outputs": [
    {
     "data": {
      "text/plain": [
       "Text(0, 0.5, 'rooms')"
      ]
     },
     "execution_count": 9,
     "metadata": {},
     "output_type": "execute_result"
    },
    {
     "data": {
      "image/png": "[encoded data removed]",
      "text/plain": [
       "<Figure size 432x288 with 1 Axes>"
      ]
     },
     "metadata": {
      "needs_background": "light"
     },
     "output_type": "display_data"
    }
   ],
   "source": [
    "import matplotlib.pyplot as plt\n",
    "ax = plt.gca()\n",
    "ax.plot(alphas, coefs.iloc[3])\n",
    "plt.xlabel('alpha')\n",
    "plt.ylabel(np.array(list(X2))[3])"
   ]
  },
  {
   "cell_type": "markdown",
   "metadata": {},
   "source": [
    "💻 Next we fit a ridge regression model on the training set, and evaluate its MSE on the test set, using  $\\lambda=4$ :"
   ]
  },
  {
   "cell_type": "code",
   "execution_count": 10,
   "metadata": {},
   "outputs": [
    {
     "name": "stdout",
     "output_type": "stream",
     "text": [
      "lnox                               [-0.10613291756126293]\n",
      "lproptax                          [-0.051046472771898665]\n",
      "crime                            [-0.0016574298374417244]\n",
      "rooms                               [0.05297148138632674]\n",
      "dist                               [0.005765475217210534]\n",
      "radial                             [-0.00154857296025958]\n",
      "stratio                           [-0.010009636400189982]\n",
      "lowstat                           [-0.005881157698466272]\n",
      "lnox_dmean:lproptax_dmean          [-0.10176823432642343]\n",
      "lnox_dmean:crime_dmean            [-0.006055940715619554]\n",
      "lnox_dmean:rooms_dmean            [-0.028368136825441967]\n",
      "lnox_dmean:dist_dmean             [0.0071213724174013174]\n",
      "lnox_dmean:radial_dmean           [-0.003376212672148356]\n",
      "lnox_dmean:stratio_dmean           [0.004257507181079396]\n",
      "lnox_dmean:lowstat_dmean          [-0.008941600663460957]\n",
      "lproptax_dmean:crime_dmean         [-0.00218446347223573]\n",
      "lproptax_dmean:rooms_dmean         [-0.04584340161447172]\n",
      "lproptax_dmean:dist_dmean          [0.011882681841538465]\n",
      "lproptax_dmean:radial_dmean       [-0.002496283302205151]\n",
      "lproptax_dmean:stratio_dmean       [0.007101301093712624]\n",
      "lproptax_dmean:lowstat_dmean      [-0.004043055376131485]\n",
      "crime_dmean:rooms_dmean          [-0.0001432446802520037]\n",
      "crime_dmean:dist_dmean            [0.0004910983435128775]\n",
      "crime_dmean:radial_dmean        [-0.00010944133758636226]\n",
      "crime_dmean:stratio_dmean       [-0.00023938866190148533]\n",
      "crime_dmean:lowstat_dmean       [-0.00016048310496762425]\n",
      "rooms_dmean:dist_dmean           [-0.0009653111731155472]\n",
      "rooms_dmean:radial_dmean         [-0.0020433862251920433]\n",
      "rooms_dmean:stratio_dmean         [-0.009708937147972453]\n",
      "rooms_dmean:lowstat_dmean        [-0.0016054033480566927]\n",
      "dist_dmean:radial_dmean          [0.00039469263075301485]\n",
      "dist_dmean:stratio_dmean          [0.0007217413181595133]\n",
      "dist_dmean:lowstat_dmean          [0.0009626484411076086]\n",
      "radial_dmean:stratio_dmean       [0.00026918604826269975]\n",
      "radial_dmean:lowstat_dmean      [-0.00020125521214594362]\n",
      "stratio_dmean:lowstat_dmean       [0.0001383325243090391]\n",
      "dtype: object\n",
      "0.06834655383850566\n"
     ]
    }
   ],
   "source": [
    "ridge2 = Ridge(alpha = 4, normalize = True)\n",
    "ridge2.set_params(fit_intercept=True)\n",
    "ridge2.fit(X2_train, y2_train)             # Fit a ridge regression on the training data\n",
    "pred2 = ridge2.predict(X2_test)            # Use this model to predict the test data\n",
    "print(pd.Series(np.array(ridge2.coef_).transpose(1,0).tolist(), index = X2_train.columns)) # Print coefficients\n",
    "print(mean_squared_error(y2_test, pred2))          # Calculate the test MSE"
   ]
  },
  {
   "cell_type": "markdown",
   "metadata": {},
   "source": [
    "Instead of arbitrarily choosing $\\lambda=4$ , it would be better to use cross-validation to choose the tuning parameter alpha. We can do this using the cross-validated ridge regression function, ```RidgeCV()```. By default, the function performs generalized cross-validation (an efficient form of LOOCV), though this can be changed using the argument cv."
   ]
  },
  {
   "cell_type": "code",
   "execution_count": 11,
   "metadata": {},
   "outputs": [
    {
     "data": {
      "text/plain": [
       "0.01"
      ]
     },
     "execution_count": 11,
     "metadata": {},
     "output_type": "execute_result"
    }
   ],
   "source": [
    "ridgecv = RidgeCV(alphas = alphas+0.01, scoring = 'neg_mean_squared_error', normalize = True)\n",
    "ridgecv.set_params(fit_intercept=True)\n",
    "ridgecv.fit(X2_train, y2_train)\n",
    "ridgecv.alpha_"
   ]
  },
  {
   "cell_type": "markdown",
   "metadata": {},
   "source": [
    "Therefore, we see that the value of alpha that results in the smallest cross-validation error is 0.01. What is the test MSE associated with this value of alpha?"
   ]
  },
  {
   "cell_type": "code",
   "execution_count": 12,
   "metadata": {},
   "outputs": [
    {
     "data": {
      "text/plain": [
       "0.02568596754935563"
      ]
     },
     "execution_count": 12,
     "metadata": {},
     "output_type": "execute_result"
    }
   ],
   "source": [
    "ridge4 = Ridge(alpha = ridgecv.alpha_, normalize = True)\n",
    "ridge4.set_params(fit_intercept=True)\n",
    "ridge4.fit(X2_train, y2_train)\n",
    "mean_squared_error(y2_test, ridge4.predict(X2_test))"
   ]
  },
  {
   "cell_type": "code",
   "execution_count": 13,
   "metadata": {},
   "outputs": [
    {
     "name": "stdout",
     "output_type": "stream",
     "text": [
      "lnox                               [-0.5637719054288071]\n",
      "lproptax                          [-0.17629677933998655]\n",
      "crime                           [-0.0012306403268748612]\n",
      "rooms                              [0.14190048382408638]\n",
      "dist                             [-0.049004560879782645]\n",
      "radial                            [0.007529241151301197]\n",
      "stratio                           [-0.02327879115886036]\n",
      "lowstat                           [-0.02643193942854922]\n",
      "lnox_dmean:lproptax_dmean            [0.615460174929572]\n",
      "lnox_dmean:crime_dmean            [-0.07047994874262704]\n",
      "lnox_dmean:rooms_dmean             [0.09005261426822243]\n",
      "lnox_dmean:dist_dmean           [-0.0008568900692210416]\n",
      "lnox_dmean:radial_dmean          [-0.012996065469773485]\n",
      "lnox_dmean:stratio_dmean          [0.009447235044105277]\n",
      "lnox_dmean:lowstat_dmean         [-0.015802827709742465]\n",
      "lproptax_dmean:crime_dmean        [0.008518741300793428]\n",
      "lproptax_dmean:rooms_dmean        [-0.01522219279562511]\n",
      "lproptax_dmean:dist_dmean         [0.013100680245580188]\n",
      "lproptax_dmean:radial_dmean       [-0.00788665161146675]\n",
      "lproptax_dmean:stratio_dmean       [0.04036737493765246]\n",
      "lproptax_dmean:lowstat_dmean      [-0.02715878229711947]\n",
      "crime_dmean:rooms_dmean           [0.008689164450724561]\n",
      "crime_dmean:dist_dmean          [-0.0006671286618174136]\n",
      "crime_dmean:radial_dmean        [-0.0002185692851194314]\n",
      "crime_dmean:stratio_dmean        [-0.001194996017218922]\n",
      "crime_dmean:lowstat_dmean        [0.0007956029136684608]\n",
      "rooms_dmean:dist_dmean            [0.017232480181217907]\n",
      "rooms_dmean:radial_dmean         [-0.013155285410247481]\n",
      "rooms_dmean:stratio_dmean        [-0.004852017500709515]\n",
      "rooms_dmean:lowstat_dmean         [-0.01286177085994647]\n",
      "dist_dmean:radial_dmean         [-0.0032818469209202456]\n",
      "dist_dmean:stratio_dmean          [0.004761974923231975]\n",
      "dist_dmean:lowstat_dmean        [-0.0011718185491672213]\n",
      "radial_dmean:stratio_dmean        [0.000922762822437608]\n",
      "radial_dmean:lowstat_dmean      [-0.0008314340982889665]\n",
      "stratio_dmean:lowstat_dmean      [-0.001787219926801312]\n",
      "dtype: object\n"
     ]
    }
   ],
   "source": [
    "ridge4.fit(X2, y2)\n",
    "print(pd.Series(np.array(ridge4.coef_).transpose(1,0).tolist(), index = X2.columns)) # Print coefficients"
   ]
  },
  {
   "cell_type": "markdown",
   "metadata": {},
   "source": [
    "✍🏽 As expected, none of the coefficients are exactly zero - ridge regression does not perform variable selection. One disadvantage of the ridge regression is that, it will include _all_ the predictors in the final model. Ridge regression shrinks the coefficients towards zero, but it will not set any of them exactly to zero.\n",
    "\n",
    "## _Lasso_ Regression\n",
    "\n",
    "The LASSO stands for **Least Absolute Shrinkage and Selection Operator**. It shrinks the regression coefficients towards zero by penalizing the regression model with a $L_1$ penalty. The $L_{1}$ penalized least squares criterion is\n",
    "$$\n",
    "\\begin{aligned} \\mathrm{SSE}_{1}(\\mathbf{b}, \\lambda) &=(\\mathbf{y}-\\mathbf{X} \\mathbf{b})^{\\prime}(\\mathbf{y}-\\mathbf{X} \\mathbf{b})+\\lambda \\sum_{j=1}^{k}\\left|\\beta_{j}\\right| \\\\ &=\\|\\mathbf{y}-\\mathbf{X} \\mathbf{b}\\|_{2}^{2}+\\lambda\\|\\mathbf{b}\\|_{1}, \\end{aligned}\n",
    "$$\n",
    "where $\\|\\mathbf{a}\\|_{1}=\\sum_{j=1}^{k}\\left|a_{j}\\right|$ is the $L_{1}$-norm. The LASSO estimator is then defined as\n",
    "$$\n",
    "\\widehat{\\boldsymbol{\\beta}}_{\\text{lasso}}=\\underset{\\mathbf{b}}{\\text{arg min }} \\mathrm{SSE}_{1}(\\mathbf{b}, \\lambda).\n",
    "$$\n",
    "\n",
    "<p style='text-align: right;'> <a href=\"https://en.wikipedia.org/wiki/Taxicab_geometry\" style=\"color: #cc0000\">$L_1$-norm</a></p>\n",
    "\n",
    "***\n",
    "The LASSO minimization problem has the dual constrained optimization problem\n",
    "$$\n",
    "\\widehat{\\boldsymbol{\\beta}}_{\\text {lasso }}=\\underset{\\|\\mathbf{b}\\|_{1} \\leq \\tau}{\\text{arg min } \\mathrm{SSE}_1}(\\mathbf{b}).\n",
    "$$\n",
    "To see that the two problems are the same observe that the constrained optimization problem has the Lagrangian\n",
    "$$\n",
    "\\min _{\\mathbf{b}}(\\mathbf{y}-\\mathbf{X} \\mathbf{b})^{\\prime}(\\mathbf{y}-\\mathbf{X} \\mathbf{b})+\\lambda\\left(\\sum_{j=1}^{k}\\left|b_{j}\\right|-\\tau\\right)\n",
    "$$\n",
    "which has first order conditions\n",
    "$$\n",
    "-2 \\mathbf{x}_{j}^{\\prime}(\\mathbf{y}-\\mathbf{X} \\mathbf{b})+\\lambda \\text{ sgn}\\left(b_{j}\\right)=0\n",
    "$$\n",
    "\n",
    "<p style='text-align: right;'> <a href=\"https://en.wikipedia.org/wiki/Sign_function\" style=\"color: #cc0000\">Sign Function</a></p>\n",
    "\n",
    "which are the same as those for minimization of the penalized criterion. Thus the solutions are identical.\n",
    "\n",
    "***\n",
    "\n",
    "<img src=\"img/lasso.png\" alt=\"drawing\" width=\"500\"/>\n",
    "\n",
    "The constrained minimization problem in $\\mathbb{R}^2$ is shown here. As one can see the constraint set $\\left\\{\\|\\mathbf{b}\\|_{1} \\leq \\tau\\right\\}$ for the dual problem is a cross-polytope, resembling a multi-faceted diamond. As before the sum of squared error contour sets are the ellipses with the least squares solution at the center. The constraint set is the shaded polytope. The LASSO estimator is the intersection point between the constraint set and the largest ellipse drawn, and in this example hits a vertex of the constraint set, and so the constrained estimator sets $\\widehat{\\beta}_1=0$. This is a typical outcome in LASSO estimation. Since we are minimizing a quadratic subject to a polytope constraint, the solution tends to be at vertices which eliminate a subset of the coefficients.\n",
    "\n",
    "The LASSO path is drawn with the dashed line. This is the sequence of solution paths obtained as the constraint set is varied. The solution path has the property that it is a straight line from the least squares estimator to the y-axis (in this example), at which point $\\beta_1$ is set to zero, and then the solution path follows the y-axis to the origin. With a general number of coefficients the solution path has a similar property, where the solution path is linear on segments until each coefficient hits zero, at which point it is eliminated. In this particular example the solution path shows $\\beta_2$ increasing while $\\beta_1$ decreases. Thus while LASSO is a shrinkage estimator it does not necessarily shrink the individual coefficients monotonically.\n",
    "\n",
    "💻 In these set of commands the LASSO estimators are calculated for a sequence of values of $\\lambda$ and we observe their performance. In order to fit a lasso model, we use the ```Lasso()``` function; however, this time the argument ```max_iter = 10000``` is included. Other than that change, we proceed just as we did in fitting a ridge model:"
   ]
  },
  {
   "cell_type": "code",
   "execution_count": 14,
   "metadata": {},
   "outputs": [
    {
     "name": "stdout",
     "output_type": "stream",
     "text": [
      "          0         1         2         3         4         5         6   \\\n",
      "0  -0.011721 -0.000000 -0.000000 -0.000000 -0.000000 -0.000000 -0.000000   \n",
      "1  -0.068522 -0.066160 -0.061673 -0.058305 -0.054937 -0.051583 -0.048216   \n",
      "2  -0.000000 -0.000591 -0.001067 -0.001254 -0.001442 -0.001627 -0.001814   \n",
      "3   0.134832  0.128867  0.122717  0.115856  0.108996  0.102134  0.095273   \n",
      "4  -0.000000 -0.000000 -0.000000 -0.000000 -0.000000  0.000000  0.000000   \n",
      "5  -0.000000 -0.000000 -0.000000 -0.000000 -0.000000 -0.000000 -0.000000   \n",
      "6  -0.014916 -0.014583 -0.014317 -0.014094 -0.013871 -0.013648 -0.013425   \n",
      "7  -0.026896 -0.026994 -0.027006 -0.027120 -0.027234 -0.027348 -0.027462   \n",
      "8  -0.000000 -0.000000 -0.000000 -0.000000 -0.000000 -0.000000 -0.000000   \n",
      "9  -0.024746 -0.024427 -0.023644 -0.021544 -0.019444 -0.017352 -0.015252   \n",
      "10 -0.000000 -0.000000 -0.000000 -0.000000 -0.000000 -0.000000 -0.000000   \n",
      "11  0.000000  0.000000  0.000000  0.000000  0.000000  0.000000  0.000000   \n",
      "12 -0.000000 -0.000000 -0.000000 -0.000000 -0.000000 -0.000000 -0.000000   \n",
      "13  0.000000  0.000000  0.000000 -0.000000 -0.000000 -0.000000 -0.000000   \n",
      "14 -0.000000 -0.000000 -0.000000 -0.000000 -0.000000 -0.000000 -0.000000   \n",
      "15 -0.000000 -0.000000 -0.000000 -0.000000 -0.000000 -0.000000 -0.000000   \n",
      "16 -0.000000 -0.000000 -0.000000 -0.000000 -0.000000 -0.000000 -0.000000   \n",
      "17  0.000000  0.000000  0.000000  0.000000  0.000000  0.000000  0.000000   \n",
      "18  0.000000  0.000000 -0.000000 -0.000000 -0.000000 -0.000000 -0.000000   \n",
      "19  0.001225  0.000000  0.000000  0.000000  0.000000  0.000000  0.000000   \n",
      "20 -0.008557 -0.007342 -0.006095 -0.004940 -0.003786 -0.002632 -0.001478   \n",
      "21  0.000000  0.000000  0.000000  0.000000 -0.000000 -0.000000 -0.000000   \n",
      "22  0.000611  0.000250  0.000000  0.000000  0.000000  0.000000  0.000000   \n",
      "23 -0.000000 -0.000000 -0.000000 -0.000000 -0.000000 -0.000000 -0.000000   \n",
      "24 -0.000000 -0.000000 -0.000000 -0.000000 -0.000000 -0.000000 -0.000000   \n",
      "25 -0.000000 -0.000000 -0.000000 -0.000000 -0.000000 -0.000000 -0.000000   \n",
      "26  0.000000  0.000000  0.000000  0.000000  0.000000  0.000000  0.000000   \n",
      "27 -0.008591 -0.007224 -0.005854 -0.004461 -0.003067 -0.001673 -0.000279   \n",
      "28 -0.004885 -0.005915 -0.006758 -0.007592 -0.008425 -0.009258 -0.010091   \n",
      "29 -0.007545 -0.007121 -0.006718 -0.006343 -0.005968 -0.005593 -0.005218   \n",
      "30  0.000000  0.000000  0.000000  0.000000  0.000000  0.000000  0.000000   \n",
      "31  0.000000  0.000000  0.000000  0.000000  0.000000  0.000000  0.000000   \n",
      "32  0.000000  0.000000  0.000000  0.000000  0.000000  0.000000  0.000000   \n",
      "33  0.000000  0.000000  0.000000  0.000000  0.000000  0.000000  0.000000   \n",
      "34 -0.000883 -0.000818 -0.000757 -0.000692 -0.000627 -0.000561 -0.000496   \n",
      "35  0.000000  0.000000  0.000000  0.000000  0.000000 -0.000000 -0.000000   \n",
      "\n",
      "          7         8         9         10        11        12        13  \\\n",
      "0  -0.000000 -0.000000 -0.000000 -0.000000 -0.000000 -0.000000 -0.000000   \n",
      "1  -0.044787 -0.041965 -0.039136 -0.036317 -0.033501 -0.032305 -0.032212   \n",
      "2  -0.002207 -0.002600 -0.002994 -0.003387 -0.003780 -0.003884 -0.003728   \n",
      "3   0.092867  0.091527  0.090185  0.088843  0.087502  0.086162  0.084696   \n",
      "4   0.000000  0.000000  0.000000  0.000000  0.000000  0.000000  0.000000   \n",
      "5  -0.000000 -0.000000 -0.000000 -0.000000 -0.000000 -0.000000 -0.000000   \n",
      "6  -0.013248 -0.012966 -0.012681 -0.012395 -0.012110 -0.011809 -0.011467   \n",
      "7  -0.027151 -0.026763 -0.026376 -0.025989 -0.025601 -0.025244 -0.024953   \n",
      "8  -0.000000 -0.000000 -0.000000 -0.000000 -0.000000 -0.000000 -0.000000   \n",
      "9  -0.012384 -0.009620 -0.006850 -0.004086 -0.001323 -0.000000 -0.000000   \n",
      "10 -0.000000 -0.000000 -0.000000 -0.000000 -0.000000 -0.000000 -0.000000   \n",
      "11  0.000000  0.000000  0.000000  0.000000  0.000000  0.000000  0.000000   \n",
      "12 -0.000000 -0.000000 -0.000000 -0.000000 -0.000000 -0.000000 -0.000000   \n",
      "13 -0.000000 -0.000000 -0.000000 -0.000000 -0.000000 -0.000000 -0.000000   \n",
      "14 -0.000000 -0.000000 -0.000000 -0.000000 -0.000000 -0.000000 -0.000000   \n",
      "15 -0.000000 -0.000000 -0.000000 -0.000000 -0.000000 -0.000000 -0.000000   \n",
      "16 -0.000000 -0.000000 -0.000000 -0.000000 -0.000000 -0.000000 -0.000000   \n",
      "17  0.000000  0.000000  0.000000  0.000000  0.000000  0.000000  0.000000   \n",
      "18 -0.000000 -0.000000 -0.000000 -0.000000 -0.000000 -0.000000 -0.000000   \n",
      "19  0.000000  0.000000  0.000000  0.000000  0.000000  0.000000  0.000000   \n",
      "20 -0.000040 -0.000000 -0.000000 -0.000000 -0.000000 -0.000000 -0.000000   \n",
      "21 -0.000000 -0.000000 -0.000000 -0.000000 -0.000000 -0.000000 -0.000000   \n",
      "22  0.000000  0.000000  0.000000  0.000000  0.000000  0.000000  0.000000   \n",
      "23 -0.000000 -0.000000 -0.000000 -0.000000 -0.000000 -0.000000 -0.000000   \n",
      "24 -0.000000 -0.000000 -0.000000 -0.000000 -0.000000 -0.000000 -0.000000   \n",
      "25 -0.000000 -0.000000 -0.000000 -0.000000 -0.000000 -0.000000 -0.000000   \n",
      "26  0.000000  0.000000  0.000000  0.000000  0.000000  0.000000  0.000000   \n",
      "27 -0.000000 -0.000000 -0.000000 -0.000000 -0.000000 -0.000000 -0.000000   \n",
      "28 -0.009430 -0.008274 -0.007115 -0.005956 -0.004797 -0.003582 -0.002223   \n",
      "29 -0.004460 -0.003699 -0.002940 -0.002182 -0.001423 -0.000666 -0.000000   \n",
      "30  0.000000  0.000000  0.000000  0.000000  0.000000  0.000000  0.000000   \n",
      "31  0.000000  0.000000  0.000000  0.000000  0.000000  0.000000  0.000000   \n",
      "32  0.000000  0.000000  0.000000  0.000000  0.000000  0.000000  0.000000   \n",
      "33  0.000000  0.000000  0.000000 -0.000000 -0.000000 -0.000000 -0.000000   \n",
      "34 -0.000484 -0.000427 -0.000369 -0.000312 -0.000254 -0.000190 -0.000123   \n",
      "35 -0.000000  0.000000  0.000000  0.000000  0.000000  0.000000  0.000000   \n",
      "\n",
      "          14        15        16        17        18        19  \n",
      "0  -0.000000 -0.000000 -0.000000 -0.000000 -0.000000 -0.000000  \n",
      "1  -0.030637 -0.028809 -0.026104 -0.022954 -0.019804 -0.016654  \n",
      "2  -0.003567 -0.003418 -0.003199 -0.002943 -0.002687 -0.002431  \n",
      "3   0.082092  0.077973  0.074277  0.070895  0.067513  0.064130  \n",
      "4   0.000000  0.000000  0.000000  0.000000  0.000000  0.000000  \n",
      "5  -0.000000 -0.000000 -0.000000 -0.000000 -0.000000 -0.000000  \n",
      "6  -0.010843 -0.009946 -0.009010 -0.008070 -0.007129 -0.006188  \n",
      "7  -0.024942 -0.024934 -0.024885 -0.024813 -0.024740 -0.024668  \n",
      "8  -0.000000 -0.000000 -0.000000 -0.000000 -0.000000 -0.000000  \n",
      "9  -0.000000 -0.000000 -0.000000 -0.000000 -0.000000 -0.000000  \n",
      "10 -0.000000 -0.000000 -0.000000 -0.000000 -0.000000 -0.000000  \n",
      "11  0.000000  0.000000  0.000000  0.000000  0.000000  0.000000  \n",
      "12 -0.000000 -0.000000 -0.000000 -0.000000 -0.000000 -0.000000  \n",
      "13 -0.000000 -0.000000 -0.000000 -0.000000 -0.000000 -0.000000  \n",
      "14 -0.000000 -0.000000 -0.000000 -0.000000 -0.000000 -0.000000  \n",
      "15 -0.000000 -0.000000 -0.000000 -0.000000 -0.000000 -0.000000  \n",
      "16 -0.000000 -0.000000 -0.000000 -0.000000 -0.000000 -0.000000  \n",
      "17  0.000000  0.000000  0.000000  0.000000  0.000000  0.000000  \n",
      "18 -0.000000 -0.000000 -0.000000 -0.000000 -0.000000 -0.000000  \n",
      "19  0.000000  0.000000  0.000000  0.000000  0.000000  0.000000  \n",
      "20 -0.000000 -0.000000 -0.000000 -0.000000 -0.000000 -0.000000  \n",
      "21 -0.000000 -0.000000 -0.000000 -0.000000 -0.000000 -0.000000  \n",
      "22  0.000000  0.000000  0.000000  0.000000  0.000000  0.000000  \n",
      "23 -0.000000 -0.000000 -0.000000 -0.000000 -0.000000 -0.000000  \n",
      "24 -0.000000 -0.000000 -0.000000 -0.000000 -0.000000 -0.000000  \n",
      "25 -0.000000 -0.000000 -0.000000 -0.000000 -0.000000 -0.000000  \n",
      "26  0.000000  0.000000  0.000000  0.000000  0.000000  0.000000  \n",
      "27 -0.000000 -0.000000 -0.000000 -0.000000 -0.000000 -0.000000  \n",
      "28 -0.000169 -0.000000 -0.000000 -0.000000 -0.000000 -0.000000  \n",
      "29 -0.000000 -0.000000 -0.000000 -0.000000 -0.000000 -0.000000  \n",
      "30  0.000000  0.000000  0.000000  0.000000  0.000000  0.000000  \n",
      "31  0.000000  0.000000  0.000000  0.000000  0.000000  0.000000  \n",
      "32  0.000000  0.000000  0.000000  0.000000  0.000000  0.000000  \n",
      "33 -0.000000 -0.000000 -0.000000 -0.000000 -0.000000 -0.000000  \n",
      "34 -0.000064 -0.000016 -0.000000 -0.000000 -0.000000 -0.000000  \n",
      "35  0.000000  0.000000  0.000000  0.000000  0.000000  0.000000  \n"
     ]
    }
   ],
   "source": [
    "from sklearn.linear_model import Lasso, LassoCV\n",
    "\n",
    "lasso = Lasso(max_iter = 10000, normalize=True)\n",
    "coefs = []\n",
    "\n",
    "alphas = np.linspace(0.001,0.005,20)\n",
    "for a in alphas:\n",
    "    lasso.set_params(alpha=a,fit_intercept=True)\n",
    "    lasso.fit(X2_train, y2_train)\n",
    "    coefs.append(lasso.coef_)\n",
    "\n",
    "coefs = pd.DataFrame(np.array(coefs).transpose())\n",
    "print(coefs)"
   ]
  },
  {
   "cell_type": "code",
   "execution_count": 15,
   "metadata": {},
   "outputs": [
    {
     "data": {
      "text/plain": [
       "<matplotlib.lines.Line2D at 0x7fac0a921dd0>"
      ]
     },
     "execution_count": 15,
     "metadata": {},
     "output_type": "execute_result"
    },
    {
     "data": {
      "image/png": "[encoded data removed]",
      "text/plain": [
       "<Figure size 432x288 with 1 Axes>"
      ]
     },
     "metadata": {
      "needs_background": "light"
     },
     "output_type": "display_data"
    }
   ],
   "source": [
    "ax = plt.gca()\n",
    "ax.plot(alphas, coefs.iloc[20])\n",
    "plt.xlabel('alpha')\n",
    "plt.ylabel(np.array(list(X2_train))[20])\n",
    "plt.axhline(y=0,linewidth=1, color='r',linestyle=':')"
   ]
  },
  {
   "cell_type": "markdown",
   "metadata": {},
   "source": [
    "Notice that in the coefficient plot that depending on the choice of tuning parameter, some of the coefficients are exactly equal to zero. We now perform 10-fold cross-validation to choose the best $\\lambda$, refit the model, and compute the associated test error:"
   ]
  },
  {
   "cell_type": "code",
   "execution_count": 19,
   "metadata": {},
   "outputs": [
    {
     "name": "stdout",
     "output_type": "stream",
     "text": [
      "0.03393340655566991\n",
      "0.001\n"
     ]
    }
   ],
   "source": [
    "lassocv = LassoCV(alphas = list(alphas), cv = 10, max_iter = 100000)\n",
    "lassocv.set_params(fit_intercept=True)\n",
    "lassocv.fit(X2_train, y2_train.values.ravel()) # need .ravel() to avoid warning\n",
    "\n",
    "lasso.set_params(alpha=lassocv.alpha_,fit_intercept=True)\n",
    "lasso.fit(X2_train, y2_train.values.ravel())  # need .ravel() to avoid warning\n",
    "print(mean_squared_error(y2_test, lasso.predict(X2_test)))\n",
    "print(lassocv.alpha_)"
   ]
  },
  {
   "cell_type": "code",
   "execution_count": 17,
   "metadata": {},
   "outputs": [
    {
     "name": "stdout",
     "output_type": "stream",
     "text": [
      "lnox                           -0.011721\n",
      "lproptax                       -0.068522\n",
      "crime                          -0.000000\n",
      "rooms                           0.134832\n",
      "dist                           -0.000000\n",
      "radial                         -0.000000\n",
      "stratio                        -0.014916\n",
      "lowstat                        -0.026896\n",
      "lnox_dmean:lproptax_dmean      -0.000000\n",
      "lnox_dmean:crime_dmean         -0.024746\n",
      "lnox_dmean:rooms_dmean         -0.000000\n",
      "lnox_dmean:dist_dmean           0.000000\n",
      "lnox_dmean:radial_dmean        -0.000000\n",
      "lnox_dmean:stratio_dmean        0.000000\n",
      "lnox_dmean:lowstat_dmean       -0.000000\n",
      "lproptax_dmean:crime_dmean     -0.000000\n",
      "lproptax_dmean:rooms_dmean     -0.000000\n",
      "lproptax_dmean:dist_dmean       0.000000\n",
      "lproptax_dmean:radial_dmean     0.000000\n",
      "lproptax_dmean:stratio_dmean    0.001225\n",
      "lproptax_dmean:lowstat_dmean   -0.008557\n",
      "crime_dmean:rooms_dmean         0.000000\n",
      "crime_dmean:dist_dmean          0.000611\n",
      "crime_dmean:radial_dmean       -0.000000\n",
      "crime_dmean:stratio_dmean      -0.000000\n",
      "crime_dmean:lowstat_dmean      -0.000000\n",
      "rooms_dmean:dist_dmean          0.000000\n",
      "rooms_dmean:radial_dmean       -0.008591\n",
      "rooms_dmean:stratio_dmean      -0.004885\n",
      "rooms_dmean:lowstat_dmean      -0.007545\n",
      "dist_dmean:radial_dmean         0.000000\n",
      "dist_dmean:stratio_dmean        0.000000\n",
      "dist_dmean:lowstat_dmean        0.000000\n",
      "radial_dmean:stratio_dmean      0.000000\n",
      "radial_dmean:lowstat_dmean     -0.000883\n",
      "stratio_dmean:lowstat_dmean     0.000000\n",
      "dtype: float64\n"
     ]
    }
   ],
   "source": [
    "print(pd.Series(lasso.fit(X2_train, y2_train).coef_.tolist(), index = X2_train.columns)) # Print coefficients"
   ]
  },
  {
   "cell_type": "markdown",
   "metadata": {},
   "source": [
    "#### OLS vs Ridge vs LASSO: A Special Case\n",
    "\n",
    "One case where we can explicitly calculate the LASSO estimates is when the regressors are orthogonal. Suppose that $\\mathbf{X}^{\\prime} \\mathbf{X}=\\mathbf{I}_{k}$ and $k<n$. Then the first order condition for minimization simplifies to\n",
    "\n",
    "$$\n",
    "-2\\left(\\widehat{\\beta}_{\\mathrm{ols}, j}-\\widehat{\\beta}_{\\text{lasso}, j}\\right)+\\lambda \\text{ sgn}\\left(\\widehat{\\beta}_{\\text{lasso}, j}\\right)=0\n",
    "$$\n",
    "\n",
    "which has the explicit solution\n",
    "\n",
    "$\\widehat{\\beta}_{\\text {lasso, } j}=\\left\\{\\begin{array}{ll}{\\widehat{\\beta}_{\\text {ols, }, j}-\\lambda / 2} & {\\widehat{\\beta}_{\\text {ols, }, j}>\\lambda / 2} \\\\ {0} & {\\left|\\widehat{\\beta}_{\\text {ols, }, j}\\right| \\leq \\lambda / 2} \\\\ {\\widehat{\\beta}_{\\text {ols, } j}+\\lambda / 2} & {\\widehat{\\beta}_{\\text {ols, } j}<-\\lambda / 2}\\end{array}\\right.$\n",
    "\n",
    "\n",
    "Similarly the ridge estimator equals\n",
    "\n",
    "$$\n",
    "\\widehat{\\boldsymbol{\\beta}}_{\\text {ridge}}=(1+\\lambda)^{-1} \\widehat{\\boldsymbol{\\beta}}_{\\text {ols}}.\n",
    "$$\n",
    "\n",
    "✍🏽 For small values of the least squares estimate the LASSO estimate is set to zero. For all other values the LASSO\n",
    "estimate moves the least squares estimate towards zero by $\\lambda/2$.\n",
    "\n",
    "✍🏽 The ridge estimate shrinks the coefficients towards zero by a common multiple."
   ]
  },
  {
   "cell_type": "markdown",
   "metadata": {
    "slideshow": {
     "slide_type": "slide"
    }
   },
   "source": [
    "## _Elastic Net_"
   ]
  },
  {
   "cell_type": "markdown",
   "metadata": {
    "slideshow": {
     "slide_type": "subslide"
    }
   },
   "source": [
    "The difference between LASSO and ridge regression is that the LASSO uses an $L_1$ penalty while ridge uses an $L_2$ penalty. Since the two procedures both have advantages it seems reasonable that further improvements can be obtained by taking a compromise between the two, i.e.,\n",
    "\n",
    "$$\n",
    "\\mathrm{SSE}_3(\\mathbf{b}, \\lambda, \\alpha)=(\\mathbf{y}-\\mathbf{X} \\mathbf{b})^{\\prime}(\\mathbf{y}-\\mathbf{X} \\mathbf{b})+\\lambda\\left((1-\\alpha)\\|\\mathbf{b}\\|_{2}^{2}+\\alpha\\|\\mathbf{b}\\|_{1}\\right)\n",
    "$$\n",
    "\n",
    "for $0 < \\alpha < 1$ and is called the **Elastic Net**. For $\\alpha=1$ we obtain LASSO and for $\\alpha=0$ we obtain ridge\n",
    "regression. For small but positive $\\alpha$ the constraint sets are similar to “rounded” versions of the LASSO constraint sets."
   ]
  },
  {
   "cell_type": "code",
   "execution_count": 20,
   "metadata": {},
   "outputs": [
    {
     "data": {
      "text/plain": [
       "0.035949489046139586"
      ]
     },
     "execution_count": 20,
     "metadata": {},
     "output_type": "execute_result"
    }
   ],
   "source": [
    "from sklearn.linear_model import ElasticNet\n",
    "enet = ElasticNet(alpha=0.1, l1_ratio=0.7) #alpha corresponds to lambda and l1_ratio to alpha above\n",
    "y2_pred_enet = enet.fit(X2_train, y2_train).predict(X2_test)\n",
    "\n",
    "mean_squared_error(y2_test, y2_pred_enet)"
   ]
  },
  {
   "cell_type": "markdown",
   "metadata": {
    "slideshow": {
     "slide_type": "subslide"
    }
   },
   "source": [
    "<ins>Selecting the Tuning Parameters</ins>"
   ]
  },
  {
   "cell_type": "markdown",
   "metadata": {
    "slideshow": {
     "slide_type": "fragment"
    }
   },
   "source": [
    "Typically the parameters $(\\alpha,\\lambda)$ are selected by joint minimization of the $k$-fold cross-validation criterion."
   ]
  },
  {
   "cell_type": "code",
   "execution_count": 21,
   "metadata": {},
   "outputs": [
    {
     "name": "stdout",
     "output_type": "stream",
     "text": [
      "9.154175864886076e-05\n",
      "0.5\n"
     ]
    }
   ],
   "source": [
    "from sklearn.linear_model import ElasticNetCV\n",
    "enetcv = ElasticNetCV(cv=5, random_state=42,fit_intercept=True,normalize = True)\n",
    "enetcv.fit(X2_train, y2_train.values.ravel()) # need .ravel() to avoid warning\n",
    "print(enetcv.alpha_)                          # printing the chosen hyperparameter\n",
    "print(enetcv.l1_ratio)                        # printing the chosen hyperparameter"
   ]
  },
  {
   "cell_type": "code",
   "execution_count": 22,
   "metadata": {},
   "outputs": [
    {
     "data": {
      "text/plain": [
       "0.026780645996108292"
      ]
     },
     "execution_count": 22,
     "metadata": {},
     "output_type": "execute_result"
    }
   ],
   "source": [
    "mean_squared_error(y2_test, enetcv.predict(X2_test))"
   ]
  }
 ],
 "metadata": {
  "hide_input": false,
  "kernelspec": {
   "display_name": "Python 3",
   "language": "python",
   "name": "python3"
  },
  "language_info": {
   "codemirror_mode": {
    "name": "ipython",
    "version": 3
   },
   "file_extension": ".py",
   "mimetype": "text/x-python",
   "name": "python",
   "nbconvert_exporter": "python",
   "pygments_lexer": "ipython3",
   "version": "3.7.9"
  },
  "latex_envs": {
   "LaTeX_envs_menu_present": true,
   "autoclose": false,
   "autocomplete": true,
   "bibliofile": "biblio.bib",
   "cite_by": "apalike",
   "current_citInitial": 1,
   "eqLabelWithNumbers": true,
   "eqNumInitial": 1,
   "hotkeys": {
    "equation": "Ctrl-E",
    "itemize": "Ctrl-I"
   },
   "labels_anchors": false,
   "latex_user_defs": false,
   "report_style_numbering": false,
   "user_envs_cfg": false
  }
 },
 "nbformat": 4,
 "nbformat_minor": 4
}
