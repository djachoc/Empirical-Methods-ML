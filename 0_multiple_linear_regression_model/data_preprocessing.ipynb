{
 "cells": [
  {
   "cell_type": "markdown",
   "metadata": {
    "slideshow": {
     "slide_type": "slide"
    }
   },
   "source": [
    "# Data Pre-Processing"
   ]
  },
  {
   "cell_type": "markdown",
   "metadata": {
    "slideshow": {
     "slide_type": "slide"
    }
   },
   "source": [
    "## Dealing with [*Missing* Data](https://en.wikipedia.org/wiki/Missing_data)"
   ]
  },
  {
   "cell_type": "markdown",
   "metadata": {
    "slideshow": {
     "slide_type": "fragment"
    }
   },
   "source": [
    "In most online _machine learning_ classes you are taught that when your data set is **incomplete** you can either:\n",
    "1. Erase the corresponding rows with missing cells; or\n",
    "2. _Impute_ (fill) the sample average of each column into those missing cells.\n",
    "\n",
    "It turns out that the second option would require stronger assumptions than the first. If the observations are **missing completely at random** and your sample is i.i.d., the first option is harmless for large data sets."
   ]
  },
  {
   "cell_type": "markdown",
   "metadata": {
    "slideshow": {
     "slide_type": "slide"
    }
   },
   "source": [
    "## Encoding [Categorical Variables](https://en.wikipedia.org/wiki/Categorical_variable)"
   ]
  },
  {
   "cell_type": "markdown",
   "metadata": {
    "slideshow": {
     "slide_type": "subslide"
    }
   },
   "source": [
    "💻 Consider the ```hprice3``` data set from the ```wooldridge``` package:"
   ]
  },
  {
   "cell_type": "code",
   "execution_count": 1,
   "metadata": {},
   "outputs": [],
   "source": [
    "%load_ext rpy2.ipython"
   ]
  },
  {
   "cell_type": "code",
   "execution_count": 2,
   "metadata": {
    "slideshow": {
     "slide_type": "fragment"
    }
   },
   "outputs": [
    {
     "name": "stderr",
     "output_type": "stream",
     "text": [
      "R[write to console]: Loading required package: wooldridge\n",
      "\n"
     ]
    },
    {
     "data": {
      "text/html": [
       "\n",
       "        <span>StrVector with 1 elements.</span>\n",
       "        <table>\n",
       "        <tbody>\n",
       "          <tr>\n",
       "          \n",
       "            <td>\n",
       "            'hprice3'\n",
       "            </td>\n",
       "          \n",
       "          </tr>\n",
       "        </tbody>\n",
       "        </table>\n",
       "        "
      ],
      "text/plain": [
       "<rpy2.robjects.vectors.StrVector object at 0x7fd5a3702be0> [RTYPES.STRSXP]\n",
       "R classes: ('character',)\n",
       "['hprice3']"
      ]
     },
     "execution_count": 2,
     "metadata": {},
     "output_type": "execute_result"
    }
   ],
   "source": [
    "## installing the 'wooldridge' package if not previously installed\n",
    "%R if (!require(wooldridge)) install.packages('wooldridge')\n",
    "\n",
    "%R data(hprice3)\n",
    "\n",
    "## Obs:   321\n",
    "\n",
    "##  1. year                     1978, 1981\n",
    "##  2. age                      age of house\n",
    "##  3. agesq                    age^2\n",
    "##  4. nbh                      neighborhood, 0 to 6\n",
    "##  5. cbd                      dist. to central bus. dstrct, feet\n",
    "##  6. inst                     dist. to interstate, feet\n",
    "##  7. linst                    log(inst)\n",
    "##  8. price                    selling price\n",
    "##  9. rooms                    # rooms in house\n",
    "## 10. area                     square footage of house\n",
    "## 11. land                     square footage lot\n",
    "## 12. baths                    # bathrooms\n",
    "## 13. dist                     dist. from house to incin., feet\n",
    "## 14. ldist                    log(dist)\n",
    "## 15. lprice                   log(price)\n",
    "## 16. y81                      =1 if year = 1981\n",
    "## 17. larea                    log(area)\n",
    "## 18. lland                    log(land)\n",
    "## 19. linstsq                  linst^2"
   ]
  },
  {
   "cell_type": "code",
   "execution_count": 3,
   "metadata": {},
   "outputs": [],
   "source": [
    "import wooldridge as woo\n",
    "hprice3 = woo.dataWoo('hprice3')"
   ]
  },
  {
   "cell_type": "markdown",
   "metadata": {
    "slideshow": {
     "slide_type": "subslide"
    }
   },
   "source": [
    "💻 Variables ```y81```, ```rooms```, and ```nbh``` are examples of <ins>categorical</ins> variables. In Econometrics, ```y81``` is called a standard dummy variable, ```rooms``` is called an _ordered_ categorical variable, ```nbh``` is called an _unordered_ categorical variable. Both ```rooms``` and ```nbh``` have _multiple_ categories. The fucntion ```as.factor()``` with option ```ordered=TRUE``` and ```ordered=FALSE``` (default) will allow us to handle them accordingly in all analysis."
   ]
  },
  {
   "cell_type": "code",
   "execution_count": 4,
   "metadata": {
    "slideshow": {
     "slide_type": "fragment"
    }
   },
   "outputs": [
    {
     "name": "stdout",
     "output_type": "stream",
     "text": [
      "      y81             rooms             nbh       \n",
      " Min.   :0.0000   Min.   : 4.000   Min.   :0.000  \n",
      " 1st Qu.:0.0000   1st Qu.: 6.000   1st Qu.:0.000  \n",
      " Median :0.0000   Median : 7.000   Median :2.000  \n",
      " Mean   :0.4424   Mean   : 6.586   Mean   :2.209  \n",
      " 3rd Qu.:1.0000   3rd Qu.: 7.000   3rd Qu.:4.000  \n",
      " Max.   :1.0000   Max.   :10.000   Max.   :6.000  \n",
      " y81     rooms    nbh    \n",
      " 0:179   4 :  4   0:121  \n",
      " 1:142   5 : 30   1: 27  \n",
      "         6 : 96   2: 47  \n",
      "         7 :169   3:  7  \n",
      "         8 : 10   4: 60  \n",
      "         9 : 11   5: 27  \n",
      "         10:  1   6: 32  \n"
     ]
    }
   ],
   "source": [
    "%%R\n",
    "attach(hprice3)\n",
    "no.factor <- data.frame(y81=y81,rooms=rooms,nbh=nbh)\n",
    "print(summary(no.factor))\n",
    "detach(hprice3)\n",
    "\n",
    "attach(hprice3)\n",
    "yes.factor <- data.frame(y81=factor(y81),rooms=factor(rooms,ordered=TRUE),nbh=factor(nbh,ordered=FALSE))\n",
    "print(summary(yes.factor))\n",
    "detach(hprice3)"
   ]
  },
  {
   "cell_type": "code",
   "execution_count": 5,
   "metadata": {},
   "outputs": [
    {
     "name": "stdout",
     "output_type": "stream",
     "text": [
      "y81      int64\n",
      "rooms    int64\n",
      "nbh      int64\n",
      "dtype: object\n",
      "y81      category\n",
      "rooms    category\n",
      "nbh      category\n",
      "dtype: object\n"
     ]
    }
   ],
   "source": [
    "import pandas as pd\n",
    "no_factor = hprice3[['y81','rooms','nbh']]\n",
    "print(no_factor.dtypes)\n",
    "yes_factor = pd.DataFrame({'y81':hprice3['y81'].astype('category'),\n",
    "                           'rooms':hprice3['rooms'].astype('category'),\n",
    "                           'nbh':hprice3['nbh'].astype('category')})\n",
    "yes_factor.rooms.cat.set_categories(\n",
    "    new_categories = sorted(hprice3['rooms'].unique()), ordered = True, inplace = True)\n",
    "print(yes_factor.dtypes)"
   ]
  },
  {
   "cell_type": "markdown",
   "metadata": {
    "slideshow": {
     "slide_type": "subslide"
    }
   },
   "source": [
    "💻 The default behavior in regression is to transformed ordered and unordered categorical variable with multiple categories into a set of $c-1$ dummy variables and include them as regressors, where $c$ represents the number of categories."
   ]
  },
  {
   "cell_type": "code",
   "execution_count": 6,
   "metadata": {
    "slideshow": {
     "slide_type": "fragment"
    }
   },
   "outputs": [
    {
     "name": "stderr",
     "output_type": "stream",
     "text": [
      "R[write to console]: Loading required package: lmtest\n",
      "\n",
      "R[write to console]: Loading required package: zoo\n",
      "\n",
      "R[write to console]: \n",
      "Attaching package: ‘zoo’\n",
      "\n",
      "\n",
      "R[write to console]: The following objects are masked from ‘package:base’:\n",
      "\n",
      "    as.Date, as.Date.numeric\n",
      "\n",
      "\n",
      "R[write to console]: Loading required package: sandwich\n",
      "\n"
     ]
    },
    {
     "name": "stdout",
     "output_type": "stream",
     "text": [
      "\n",
      "t test of coefficients:\n",
      "\n",
      "                       Estimate   Std. Error t value              Pr(>|t|)    \n",
      "(Intercept)         3.497413578  2.266536887  1.5431             0.1238762    \n",
      "lland               0.122178750  0.037345254  3.2716             0.0011950 ** \n",
      "larea               0.353527029  0.064960239  5.4422            0.00000011 ***\n",
      "I(log(cbd))        -0.030909378  0.057676152 -0.5359             0.5924187    \n",
      "as.factor(y81)1     0.379015730  0.024474885 15.4859 < 0.00000000000000022 ***\n",
      "as.factor(rooms)5   0.132637038  0.156849504  0.8456             0.3984363    \n",
      "as.factor(rooms)6   0.061507499  0.158817991  0.3873             0.6988232    \n",
      "as.factor(rooms)7   0.140493063  0.165317814  0.8498             0.3960984    \n",
      "as.factor(rooms)8   0.173819280  0.167557064  1.0374             0.3004028    \n",
      "as.factor(rooms)9   0.290598039  0.183811551  1.5810             0.1149488    \n",
      "as.factor(rooms)10  0.393247317  0.215237037  1.8270             0.0686934 .  \n",
      "as.factor(nbh)1    -0.030538638  0.061345833 -0.4978             0.6189843    \n",
      "as.factor(nbh)2    -0.056836129  0.032002585 -1.7760             0.0767557 .  \n",
      "as.factor(nbh)3    -0.198881539  0.054064977 -3.6786             0.0002782 ***\n",
      "as.factor(nbh)4    -0.013553307  0.048588495 -0.2789             0.7804838    \n",
      "as.factor(nbh)5    -0.071917592  0.041711050 -1.7242             0.0857114 .  \n",
      "as.factor(nbh)6    -0.048267044  0.047859678 -1.0085             0.3140271    \n",
      "linst               0.622789867  0.411821139  1.5123             0.1315218    \n",
      "linstsq            -0.038426270  0.023938313 -1.6052             0.1095045    \n",
      "ldist               0.141697280  0.078728925  1.7998             0.0729017 .  \n",
      "baths               0.098964080  0.027517497  3.5964             0.0003775 ***\n",
      "age                -0.006854517  0.001674310 -4.0939            0.00005467 ***\n",
      "agesq               0.000027411  0.000011508  2.3819             0.0178528 *  \n",
      "---\n",
      "Signif. codes:  0 ‘***’ 0.001 ‘**’ 0.01 ‘*’ 0.05 ‘.’ 0.1 ‘ ’ 1\n",
      "\n"
     ]
    }
   ],
   "source": [
    "%%R\n",
    "ols <- lm(lprice ~ lland + larea + I(log(cbd)) +as.factor(y81) + as.factor(rooms) + as.factor(nbh) +linst + linstsq + ldist + baths + age + agesq,data=hprice3)\n",
    "\n",
    "## installing the 'lmtest', 'sandwich' packages if not previously installed\n",
    "if (!require(lmtest)) install.packages('lmtest')\n",
    "if (!require(sandwich)) install.packages('sandwich')\n",
    "\n",
    "## turning 'off' scientific notation\n",
    "options(scipen = 999) \n",
    "\n",
    "## calculating standard t-statistics for 'significance'\n",
    "print(coeftest(ols, vcov = vcovHC, type = 'HC1'))"
   ]
  },
  {
   "cell_type": "code",
   "execution_count": 7,
   "metadata": {},
   "outputs": [
    {
     "name": "stdout",
     "output_type": "stream",
     "text": [
      "==================================================================================\n",
      "                     coef    std err          z      P>|z|      [0.025      0.975]\n",
      "----------------------------------------------------------------------------------\n",
      "Intercept          3.4974      2.267      1.543      0.123      -0.945       7.940\n",
      "C(y81)[T.1]        0.3790      0.024     15.486      0.000       0.331       0.427\n",
      "C(rooms)[T.5]      0.1326      0.157      0.846      0.398      -0.175       0.440\n",
      "C(rooms)[T.6]      0.0615      0.159      0.387      0.699      -0.250       0.373\n",
      "C(rooms)[T.7]      0.1405      0.165      0.850      0.395      -0.184       0.465\n",
      "C(rooms)[T.8]      0.1738      0.168      1.037      0.300      -0.155       0.502\n",
      "C(rooms)[T.9]      0.2906      0.184      1.581      0.114      -0.070       0.651\n",
      "C(rooms)[T.10]     0.3932      0.215      1.827      0.068      -0.029       0.815\n",
      "C(nbh)[T.1]       -0.0305      0.061     -0.498      0.619      -0.151       0.090\n",
      "C(nbh)[T.2]       -0.0568      0.032     -1.776      0.076      -0.120       0.006\n",
      "C(nbh)[T.3]       -0.1989      0.054     -3.679      0.000      -0.305      -0.093\n",
      "C(nbh)[T.4]       -0.0136      0.049     -0.279      0.780      -0.109       0.082\n",
      "C(nbh)[T.5]       -0.0719      0.042     -1.724      0.085      -0.154       0.010\n",
      "C(nbh)[T.6]       -0.0483      0.048     -1.009      0.313      -0.142       0.046\n",
      "lland              0.1222      0.037      3.272      0.001       0.049       0.195\n",
      "larea              0.3535      0.065      5.442      0.000       0.226       0.481\n",
      "log(cbd)          -0.0309      0.058     -0.536      0.592      -0.144       0.082\n",
      "linst              0.6228      0.412      1.512      0.130      -0.184       1.430\n",
      "linstsq           -0.0384      0.024     -1.605      0.108      -0.085       0.008\n",
      "ldist              0.1417      0.079      1.800      0.072      -0.013       0.296\n",
      "baths              0.0990      0.028      3.596      0.000       0.045       0.153\n",
      "age               -0.0069      0.002     -4.094      0.000      -0.010      -0.004\n",
      "agesq           2.741e-05   1.15e-05      2.382      0.017    4.86e-06       5e-05\n",
      "==================================================================================\n"
     ]
    }
   ],
   "source": [
    "from statsmodels.formula.api import ols\n",
    "from numpy import log\n",
    "f = 'lprice ~ lland + larea + log(cbd) + C(y81) + C(rooms) + C(nbh) + linst + linstsq + ldist + baths + age + agesq'\n",
    "res = ols(formula=f,data=hprice3).fit(cov_type='HC1')\n",
    "print(res.summary().tables[1])"
   ]
  },
  {
   "cell_type": "markdown",
   "metadata": {},
   "source": [
    "📌 ````Python````: You can also change the _base category_ (the category left out):"
   ]
  },
  {
   "cell_type": "code",
   "execution_count": 8,
   "metadata": {},
   "outputs": [
    {
     "name": "stdout",
     "output_type": "stream",
     "text": [
      "================================================================================================\n",
      "                                   coef    std err          z      P>|z|      [0.025      0.975]\n",
      "------------------------------------------------------------------------------------------------\n",
      "Intercept                        3.8180      2.269      1.683      0.092      -0.629       8.265\n",
      "C(y81, Treatment(1))[T.0]       -0.3790      0.024    -15.486      0.000      -0.427      -0.331\n",
      "C(rooms, Treatment(7))[T.4]     -0.1405      0.165     -0.850      0.395      -0.465       0.184\n",
      "C(rooms, Treatment(7))[T.5]     -0.0079      0.046     -0.171      0.864      -0.098       0.082\n",
      "C(rooms, Treatment(7))[T.6]     -0.0790      0.035     -2.233      0.026      -0.148      -0.010\n",
      "C(rooms, Treatment(7))[T.8]      0.0333      0.047      0.702      0.483      -0.060       0.126\n",
      "C(rooms, Treatment(7))[T.9]      0.1501      0.078      1.918      0.055      -0.003       0.303\n",
      "C(rooms, Treatment(7))[T.10]     0.2528      0.145      1.741      0.082      -0.032       0.537\n",
      "C(nbh, Treatment(3))[T.0]        0.1989      0.054      3.679      0.000       0.093       0.305\n",
      "C(nbh, Treatment(3))[T.1]        0.1683      0.075      2.250      0.024       0.022       0.315\n",
      "C(nbh, Treatment(3))[T.2]        0.1420      0.052      2.756      0.006       0.041       0.243\n",
      "C(nbh, Treatment(3))[T.4]        0.1853      0.074      2.510      0.012       0.041       0.330\n",
      "C(nbh, Treatment(3))[T.5]        0.1270      0.055      2.298      0.022       0.019       0.235\n",
      "C(nbh, Treatment(3))[T.6]        0.1506      0.064      2.364      0.018       0.026       0.275\n",
      "lland                            0.1222      0.037      3.272      0.001       0.049       0.195\n",
      "larea                            0.3535      0.065      5.442      0.000       0.226       0.481\n",
      "log(cbd)                        -0.0309      0.058     -0.536      0.592      -0.144       0.082\n",
      "linst                            0.6228      0.412      1.512      0.130      -0.184       1.430\n",
      "linstsq                         -0.0384      0.024     -1.605      0.108      -0.085       0.008\n",
      "ldist                            0.1417      0.079      1.800      0.072      -0.013       0.296\n",
      "baths                            0.0990      0.028      3.596      0.000       0.045       0.153\n",
      "age                             -0.0069      0.002     -4.094      0.000      -0.010      -0.004\n",
      "agesq                         2.741e-05   1.15e-05      2.382      0.017    4.86e-06       5e-05\n",
      "================================================================================================\n"
     ]
    }
   ],
   "source": [
    "f_b = 'lprice ~ lland + larea + log(cbd) + C(y81,Treatment(1)) + C(rooms,Treatment(7)) + C(nbh,Treatment(3)) + linst + linstsq + ldist + baths + age + agesq'\n",
    "res_b = ols(formula=f_b,data=hprice3).fit(cov_type='HC1')\n",
    "print(res_b.summary().tables[1])"
   ]
  },
  {
   "cell_type": "markdown",
   "metadata": {
    "slideshow": {
     "slide_type": "subslide"
    }
   },
   "source": [
    "💻 In many machine learning algorithms you are required to provide the design (model) matrix, $\\mathbf{X}$ (*without* and intercept), and response vector, $\\mathbf{y}$."
   ]
  },
  {
   "cell_type": "markdown",
   "metadata": {
    "slideshow": {
     "slide_type": "skip"
    },
    "solution2": "hidden",
    "solution2_first": true
   },
   "source": [
    "**<span style=\"color:green\">Exercise:</span>**: ```R``` - Use the ```model.matrix``` function to extract the design matrix _without_ an intercept from the previously created ```ols``` object and verify it contains 22 columns of regressors/features."
   ]
  },
  {
   "cell_type": "code",
   "execution_count": 9,
   "metadata": {
    "slideshow": {
     "slide_type": "fragment"
    },
    "solution2": "hidden"
   },
   "outputs": [
    {
     "name": "stdout",
     "output_type": "stream",
     "text": [
      "[1] 321  22\n",
      " [1] \"lland\"              \"larea\"              \"I(log(cbd))\"       \n",
      " [4] \"as.factor(y81)1\"    \"as.factor(rooms)5\"  \"as.factor(rooms)6\" \n",
      " [7] \"as.factor(rooms)7\"  \"as.factor(rooms)8\"  \"as.factor(rooms)9\" \n",
      "[10] \"as.factor(rooms)10\" \"as.factor(nbh)1\"    \"as.factor(nbh)2\"   \n",
      "[13] \"as.factor(nbh)3\"    \"as.factor(nbh)4\"    \"as.factor(nbh)5\"   \n",
      "[16] \"as.factor(nbh)6\"    \"linst\"              \"linstsq\"           \n",
      "[19] \"ldist\"              \"baths\"              \"age\"               \n",
      "[22] \"agesq\"             \n"
     ]
    }
   ],
   "source": [
    "%%R\n",
    "X <- model.matrix(ols)[,-1]\n",
    "print(dim(X))\n",
    "print(colnames(X))"
   ]
  },
  {
   "cell_type": "code",
   "execution_count": 10,
   "metadata": {},
   "outputs": [
    {
     "name": "stdout",
     "output_type": "stream",
     "text": [
      "(321, 22)\n",
      "['C(y81)[T.1]', 'C(rooms)[T.5]', 'C(rooms)[T.6]', 'C(rooms)[T.7]', 'C(rooms)[T.8]', 'C(rooms)[T.9]', 'C(rooms)[T.10]', 'C(nbh)[T.1]', 'C(nbh)[T.2]', 'C(nbh)[T.3]', 'C(nbh)[T.4]', 'C(nbh)[T.5]', 'C(nbh)[T.6]', 'lland', 'larea', 'log(cbd)', 'linst', 'linstsq', 'ldist', 'baths', 'age', 'agesq']\n"
     ]
    }
   ],
   "source": [
    "import patsy\n",
    "y,X = patsy.dmatrices(f, hprice3, return_type='dataframe')\n",
    "del X['Intercept']\n",
    "print(X.shape)\n",
    "print(list(X.columns))"
   ]
  },
  {
   "cell_type": "markdown",
   "metadata": {
    "slideshow": {
     "slide_type": "skip"
    },
    "solution2": "shown",
    "solution2_first": true
   },
   "source": [
    "📌 ```R```: It is good practice to define categorical variables _outside_ the model formula/fitting. When doing this, one can easily change the 'base' category using the ```relevel()``` function along with the ```within()``` function."
   ]
  },
  {
   "cell_type": "markdown",
   "metadata": {
    "slideshow": {
     "slide_type": "slide"
    }
   },
   "source": [
    "## Including [Interaction Terms](https://en.wikipedia.org/wiki/Interaction_(statistics) )"
   ]
  },
  {
   "cell_type": "markdown",
   "metadata": {
    "slideshow": {
     "slide_type": "fragment"
    }
   },
   "source": [
    "In the previously fitted model we included ```linstsq``` and ```agesq``` as predictors. These correspond to the squared of the original predictors ```linst``` and ```age```. In economics we include such predictors to account for increasing/decreasing returns to scale in modelling. Since $\\texttt{linst}^2=\\texttt{linst}\\times\\texttt{linst}$ and $\\texttt{age}^2=\\texttt{age}\\times\\texttt{age}$, one can think of them as a specific type of interaction terms (products with themselves)."
   ]
  },
  {
   "cell_type": "markdown",
   "metadata": {
    "slideshow": {
     "slide_type": "fragment"
    }
   },
   "source": [
    "<ins>Example</ins>: Consider the following version of the previously estimated model\n",
    "\n",
    "$$\n",
    "\\begin{aligned}\n",
    "\\texttt{lprice}&=\\beta_0+\\beta_1\\texttt{lland}+\\beta_2\\texttt{larea}+ \\beta_3\\texttt{linst}+\\beta_4\\texttt{age}\\\\\n",
    "               & + \\beta_5\\texttt{linst}\\times\\texttt{age}+\\beta_6\\texttt{linst}^2+\\beta_7\\texttt{age}^2+e\n",
    "\\end{aligned}\n",
    "$$"
   ]
  },
  {
   "cell_type": "code",
   "execution_count": 11,
   "metadata": {
    "slideshow": {
     "slide_type": "subslide"
    }
   },
   "outputs": [
    {
     "name": "stdout",
     "output_type": "stream",
     "text": [
      "   (Intercept)          lland          larea          linst            age \n",
      "       2.25472        0.10212        0.63839        0.85279       -0.01741 \n",
      "I(linst * age)        linstsq          agesq \n",
      "       0.00074       -0.05226        0.00004 \n"
     ]
    }
   ],
   "source": [
    "%%R\n",
    "\n",
    "## OLS: estimating this new model\n",
    "ols.0 <- lm(lprice ~ lland + larea + linst + age + I(linst*age) + linstsq + agesq,data=hprice3)\n",
    "print(round(coef(ols.0),5))"
   ]
  },
  {
   "cell_type": "code",
   "execution_count": 12,
   "metadata": {},
   "outputs": [
    {
     "data": {
      "text/plain": [
       "Intercept         2.25472\n",
       "lland             0.10212\n",
       "larea             0.63839\n",
       "linst             0.85279\n",
       "age              -0.01741\n",
       "I(linst * age)    0.00074\n",
       "linstsq          -0.05226\n",
       "agesq             0.00004\n",
       "dtype: float64"
      ]
     },
     "execution_count": 12,
     "metadata": {},
     "output_type": "execute_result"
    }
   ],
   "source": [
    "f = 'lprice ~ lland + larea + linst + age + I(linst*age) + linstsq + agesq'\n",
    "res_0 = ols(formula=f,data=hprice3).fit()\n",
    "\n",
    "import numpy as np\n",
    "np.round(res_0.params,5)"
   ]
  },
  {
   "cell_type": "markdown",
   "metadata": {
    "slideshow": {
     "slide_type": "subslide"
    }
   },
   "source": [
    "By defining $\\mathbf{x}=[\\texttt{lland},\\texttt{larea},\\texttt{linst},\\texttt{age}]^\\prime$, and Assumption MLR.4, one has\n",
    "\n",
    "$$\n",
    "\\frac{\\partial E[\\texttt{lprice}|\\mathbf{x}]}{\\partial \\texttt{linst}}=\\beta_3+\\beta_5\\texttt{age}+2\\beta_6\\texttt{linst}.\n",
    "$$\n",
    "\n",
    "Then $\\beta_3$ represents the average price elasticty with respect to the distance from the highway for a home that is brand new ($\\texttt{age}=0$) and that is located 1 feet away from the highway ($\\texttt{linst}=\\log(\\texttt{inst})=0$, i.e., $\\texttt{inst}=1$)."
   ]
  },
  {
   "cell_type": "markdown",
   "metadata": {
    "slideshow": {
     "slide_type": "fragment"
    }
   },
   "source": [
    "💻 Calculating the summary statistics for variables ```age``` and ```inst``` in the data set."
   ]
  },
  {
   "cell_type": "code",
   "execution_count": 13,
   "metadata": {
    "slideshow": {
     "slide_type": "fragment"
    }
   },
   "outputs": [
    {
     "name": "stdout",
     "output_type": "stream",
     "text": [
      "      age              inst           linst       \n",
      " Min.   :  0.00   Min.   : 1000   Min.   : 6.908  \n",
      " 1st Qu.:  0.00   1st Qu.: 9000   1st Qu.: 9.105  \n",
      " Median :  4.00   Median :16000   Median : 9.680  \n",
      " Mean   : 18.01   Mean   :16442   Mean   : 9.481  \n",
      " 3rd Qu.: 22.00   3rd Qu.:24000   3rd Qu.:10.086  \n",
      " Max.   :189.00   Max.   :34000   Max.   :10.434  \n"
     ]
    }
   ],
   "source": [
    "%%R\n",
    "\n",
    "## printing summary statistics for 'age' and 'inst'\n",
    "print(summary(subset(hprice3,select=c('age','inst','linst'))))"
   ]
  },
  {
   "cell_type": "code",
   "execution_count": 14,
   "metadata": {},
   "outputs": [
    {
     "data": {
      "text/html": [
       "<div>\n",
       "<style scoped>\n",
       "    .dataframe tbody tr th:only-of-type {\n",
       "        vertical-align: middle;\n",
       "    }\n",
       "\n",
       "    .dataframe tbody tr th {\n",
       "        vertical-align: top;\n",
       "    }\n",
       "\n",
       "    .dataframe thead th {\n",
       "        text-align: right;\n",
       "    }\n",
       "</style>\n",
       "<table border=\"1\" class=\"dataframe\">\n",
       "  <thead>\n",
       "    <tr style=\"text-align: right;\">\n",
       "      <th></th>\n",
       "      <th>age</th>\n",
       "      <th>inst</th>\n",
       "      <th>linst</th>\n",
       "    </tr>\n",
       "  </thead>\n",
       "  <tbody>\n",
       "    <tr>\n",
       "      <th>count</th>\n",
       "      <td>321.000000</td>\n",
       "      <td>321.000000</td>\n",
       "      <td>321.000000</td>\n",
       "    </tr>\n",
       "    <tr>\n",
       "      <th>mean</th>\n",
       "      <td>18.009346</td>\n",
       "      <td>16442.367601</td>\n",
       "      <td>9.480513</td>\n",
       "    </tr>\n",
       "    <tr>\n",
       "      <th>std</th>\n",
       "      <td>32.565845</td>\n",
       "      <td>9033.130652</td>\n",
       "      <td>0.777165</td>\n",
       "    </tr>\n",
       "    <tr>\n",
       "      <th>min</th>\n",
       "      <td>0.000000</td>\n",
       "      <td>1000.000000</td>\n",
       "      <td>6.907800</td>\n",
       "    </tr>\n",
       "    <tr>\n",
       "      <th>25%</th>\n",
       "      <td>0.000000</td>\n",
       "      <td>9000.000000</td>\n",
       "      <td>9.105000</td>\n",
       "    </tr>\n",
       "    <tr>\n",
       "      <th>50%</th>\n",
       "      <td>4.000000</td>\n",
       "      <td>16000.000000</td>\n",
       "      <td>9.680300</td>\n",
       "    </tr>\n",
       "    <tr>\n",
       "      <th>75%</th>\n",
       "      <td>22.000000</td>\n",
       "      <td>24000.000000</td>\n",
       "      <td>10.086000</td>\n",
       "    </tr>\n",
       "    <tr>\n",
       "      <th>max</th>\n",
       "      <td>189.000000</td>\n",
       "      <td>34000.000000</td>\n",
       "      <td>10.434000</td>\n",
       "    </tr>\n",
       "  </tbody>\n",
       "</table>\n",
       "</div>"
      ],
      "text/plain": [
       "              age          inst       linst\n",
       "count  321.000000    321.000000  321.000000\n",
       "mean    18.009346  16442.367601    9.480513\n",
       "std     32.565845   9033.130652    0.777165\n",
       "min      0.000000   1000.000000    6.907800\n",
       "25%      0.000000   9000.000000    9.105000\n",
       "50%      4.000000  16000.000000    9.680300\n",
       "75%     22.000000  24000.000000   10.086000\n",
       "max    189.000000  34000.000000   10.434000"
      ]
     },
     "execution_count": 14,
     "metadata": {},
     "output_type": "execute_result"
    }
   ],
   "source": [
    "hprice3[['age','inst','linst']].describe()"
   ]
  },
  {
   "cell_type": "markdown",
   "metadata": {
    "slideshow": {
     "slide_type": "subslide"
    }
   },
   "source": [
    "Now consider the following alternative specification\n",
    "\n",
    "$$\n",
    "\\begin{aligned}\n",
    "\\texttt{lprice}&=\\delta_0+\\beta_1\\texttt{lland}+\\beta_2\\texttt{larea}+ \\delta_3\\texttt{linst}+\\delta_4\\texttt{age}\\\\\n",
    "               & + \\beta_5[\\texttt{linst}-\\mu_{\\texttt{linst}}]\\times[\\texttt{age}-\\mu_{\\texttt{age}}]+\\beta_6[\\texttt{linst}-\\mu_{\\texttt{linst}}]^2+\\beta_7[\\texttt{age}-\\mu_{\\texttt{age}}]^2+e.\n",
    "\\end{aligned}\n",
    "$$\n",
    "\n",
    "In this case\n",
    "\n",
    "$$\n",
    "\\frac{\\partial E[\\texttt{lprice}|\\mathbf{x}]}{\\partial \\texttt{linst}}=\\delta_3+\\beta_5[\\texttt{age}-\\mu_{\\texttt{age}}]+2\\beta_6[\\texttt{linst}-\\mu_{\\texttt{linst}}].\n",
    "$$\n",
    "\n",
    "Then $\\delta_3$ represents the average price elasticty with respect to the distance from the highway for a home that is 18 years old ($\\widehat{\\mu}_{\\texttt{age}}\\approx 18.01$) and that is located 16,442 feet away from the highway ($\\widehat{\\mu}_{\\texttt{inst}}\\approx 16,442$)."
   ]
  },
  {
   "cell_type": "code",
   "execution_count": 15,
   "metadata": {
    "slideshow": {
     "slide_type": "subslide"
    }
   },
   "outputs": [
    {
     "data": {
      "text/html": [
       "<div>\n",
       "<style scoped>\n",
       "    .dataframe tbody tr th:only-of-type {\n",
       "        vertical-align: middle;\n",
       "    }\n",
       "\n",
       "    .dataframe tbody tr th {\n",
       "        vertical-align: top;\n",
       "    }\n",
       "\n",
       "    .dataframe thead th {\n",
       "        text-align: right;\n",
       "    }\n",
       "</style>\n",
       "<table border=\"1\" class=\"dataframe\">\n",
       "  <thead>\n",
       "    <tr style=\"text-align: right;\">\n",
       "      <th></th>\n",
       "      <th>ols.0</th>\n",
       "      <th>ols.1</th>\n",
       "    </tr>\n",
       "  </thead>\n",
       "  <tbody>\n",
       "    <tr>\n",
       "      <th>(Intercept)</th>\n",
       "      <td>2.25472</td>\n",
       "      <td>7.03626</td>\n",
       "    </tr>\n",
       "    <tr>\n",
       "      <th>lland</th>\n",
       "      <td>0.10212</td>\n",
       "      <td>0.10212</td>\n",
       "    </tr>\n",
       "    <tr>\n",
       "      <th>larea</th>\n",
       "      <td>0.63839</td>\n",
       "      <td>0.63839</td>\n",
       "    </tr>\n",
       "    <tr>\n",
       "      <th>linst</th>\n",
       "      <td>0.85279</td>\n",
       "      <td>-0.14856</td>\n",
       "    </tr>\n",
       "    <tr>\n",
       "      <th>age</th>\n",
       "      <td>-0.01741</td>\n",
       "      <td>-0.00865</td>\n",
       "    </tr>\n",
       "    <tr>\n",
       "      <th>I(linst * age)</th>\n",
       "      <td>0.00074</td>\n",
       "      <td>0.00074</td>\n",
       "    </tr>\n",
       "    <tr>\n",
       "      <th>linstsq</th>\n",
       "      <td>-0.05226</td>\n",
       "      <td>-0.05226</td>\n",
       "    </tr>\n",
       "    <tr>\n",
       "      <th>agesq</th>\n",
       "      <td>0.00004</td>\n",
       "      <td>0.00004</td>\n",
       "    </tr>\n",
       "  </tbody>\n",
       "</table>\n",
       "</div>"
      ],
      "text/plain": [
       "                  ols.0    ols.1\n",
       "(Intercept)     2.25472  7.03626\n",
       "lland           0.10212  0.10212\n",
       "larea           0.63839  0.63839\n",
       "linst           0.85279 -0.14856\n",
       "age            -0.01741 -0.00865\n",
       "I(linst * age)  0.00074  0.00074\n",
       "linstsq        -0.05226 -0.05226\n",
       "agesq           0.00004  0.00004"
      ]
     },
     "execution_count": 15,
     "metadata": {},
     "output_type": "execute_result"
    }
   ],
   "source": [
    "## OLS: estimating this new 'version' model\n",
    "%R ols.1 <- lm(lprice ~ lland + larea + linst + age + I((linst-log(mean(inst)))*(age-mean(age))) + I((linst-log(mean(inst)))^2) + I((age-mean(age))^2),data=hprice3)\n",
    "\n",
    "## printing ols results up to 5 decimals\n",
    "%R round(data.frame(ols.0=coef(ols.0),ols.1=coef(ols.1)),5)"
   ]
  },
  {
   "cell_type": "code",
   "execution_count": 16,
   "metadata": {},
   "outputs": [
    {
     "data": {
      "text/html": [
       "<div>\n",
       "<style scoped>\n",
       "    .dataframe tbody tr th:only-of-type {\n",
       "        vertical-align: middle;\n",
       "    }\n",
       "\n",
       "    .dataframe tbody tr th {\n",
       "        vertical-align: top;\n",
       "    }\n",
       "\n",
       "    .dataframe thead th {\n",
       "        text-align: right;\n",
       "    }\n",
       "</style>\n",
       "<table border=\"1\" class=\"dataframe\">\n",
       "  <thead>\n",
       "    <tr style=\"text-align: right;\">\n",
       "      <th></th>\n",
       "      <th>ols.0</th>\n",
       "      <th>ols.1</th>\n",
       "    </tr>\n",
       "  </thead>\n",
       "  <tbody>\n",
       "    <tr>\n",
       "      <th>I((age - m.loc[\"age\"]) ** 2)</th>\n",
       "      <td>NaN</td>\n",
       "      <td>0.000044</td>\n",
       "    </tr>\n",
       "    <tr>\n",
       "      <th>I((linst - log(m.loc[\"inst\"])) * (age - m.loc[\"age\"]))</th>\n",
       "      <td>NaN</td>\n",
       "      <td>0.000740</td>\n",
       "    </tr>\n",
       "    <tr>\n",
       "      <th>I((linst - log(m.loc[\"inst\"])) ** 2)</th>\n",
       "      <td>NaN</td>\n",
       "      <td>-0.052262</td>\n",
       "    </tr>\n",
       "    <tr>\n",
       "      <th>I(linst * age)</th>\n",
       "      <td>0.000740</td>\n",
       "      <td>NaN</td>\n",
       "    </tr>\n",
       "    <tr>\n",
       "      <th>Intercept</th>\n",
       "      <td>2.254722</td>\n",
       "      <td>7.036262</td>\n",
       "    </tr>\n",
       "    <tr>\n",
       "      <th>age</th>\n",
       "      <td>-0.017408</td>\n",
       "      <td>-0.008652</td>\n",
       "    </tr>\n",
       "    <tr>\n",
       "      <th>agesq</th>\n",
       "      <td>0.000044</td>\n",
       "      <td>NaN</td>\n",
       "    </tr>\n",
       "    <tr>\n",
       "      <th>larea</th>\n",
       "      <td>0.638386</td>\n",
       "      <td>0.638386</td>\n",
       "    </tr>\n",
       "    <tr>\n",
       "      <th>linst</th>\n",
       "      <td>0.852794</td>\n",
       "      <td>-0.148562</td>\n",
       "    </tr>\n",
       "    <tr>\n",
       "      <th>linstsq</th>\n",
       "      <td>-0.052262</td>\n",
       "      <td>NaN</td>\n",
       "    </tr>\n",
       "    <tr>\n",
       "      <th>lland</th>\n",
       "      <td>0.102120</td>\n",
       "      <td>0.102120</td>\n",
       "    </tr>\n",
       "  </tbody>\n",
       "</table>\n",
       "</div>"
      ],
      "text/plain": [
       "                                                       ols.0     ols.1\n",
       "I((age - m.loc[\"age\"]) ** 2)                             NaN  0.000044\n",
       "I((linst - log(m.loc[\"inst\"])) * (age - m.loc[\"...       NaN  0.000740\n",
       "I((linst - log(m.loc[\"inst\"])) ** 2)                     NaN -0.052262\n",
       "I(linst * age)                                      0.000740       NaN\n",
       "Intercept                                           2.254722  7.036262\n",
       "age                                                -0.017408 -0.008652\n",
       "agesq                                               0.000044       NaN\n",
       "larea                                               0.638386  0.638386\n",
       "linst                                               0.852794 -0.148562\n",
       "linstsq                                            -0.052262       NaN\n",
       "lland                                               0.102120  0.102120"
      ]
     },
     "execution_count": 16,
     "metadata": {},
     "output_type": "execute_result"
    }
   ],
   "source": [
    "m = hprice3[['age','inst','linst']].mean()\n",
    "f = 'lprice ~ lland + larea + linst + age + I((linst-log(m.loc[\"inst\"]))*(age-m.loc[\"age\"])) + I((linst-log(m.loc[\"inst\"]))**2) + I((age-m.loc[\"age\"])**2)'\n",
    "res_1 = ols(formula=f,data=hprice3).fit()\n",
    "\n",
    "import numpy as np\n",
    "pd.DataFrame({'ols.0':res_0.params,'ols.1':res_1.params})"
   ]
  },
  {
   "cell_type": "markdown",
   "metadata": {
    "slideshow": {
     "slide_type": "fragment"
    }
   },
   "source": [
    "⁉️ Is it a coincidence that some of the estimates are the same in both specifications? provide an algebraic explanation."
   ]
  },
  {
   "cell_type": "markdown",
   "metadata": {
    "slideshow": {
     "slide_type": "slide"
    }
   },
   "source": [
    "## Beta Coefficients"
   ]
  },
  {
   "cell_type": "markdown",
   "metadata": {
    "slideshow": {
     "slide_type": "subslide"
    }
   },
   "source": [
    "Why is standardization useful? It is easiest to start with the original OLS equation, with the variables in their original forms:\n",
    "\n",
    "$$\n",
    "y_{i}=\\widehat{\\beta}_{0}+\\widehat{\\beta}_{1} x_{i 1}+\\widehat{\\beta}_{2} x_{i 2}+\\ldots+\\widehat{\\beta}_{k} x_{i k}+\\hat{e}_{i}.\n",
    "$$\n",
    "\n",
    "We have included the observation subscript i to emphasize that our standardization is applied to all sample values. If we average the previous equation and use the fact that $\\{\\widehat{e}_i:i=1,\\ldots,n\\}$ has sample mean zero one has\n",
    "\n",
    "$$\n",
    "y_{i}-\\overline{y}=\\widehat{\\beta}_{1}\\left(x_{i 1}-\\overline{x}_{1}\\right)+\\widehat{\\beta}_{2}\\left(x_{i 2}-\\overline{x}_{2}\\right)+\\ldots+\\widehat{\\beta}_{k}\\left(x_{i k}-\\overline{x}_{k}\\right)+\\widehat{e}_{i}.\n",
    "$$"
   ]
  },
  {
   "cell_type": "markdown",
   "metadata": {
    "slideshow": {
     "slide_type": "subslide"
    }
   },
   "source": [
    "Now, let $\\widehat{\\sigma}_{y}$ be the sample standard deviation for the dependent variable, let $\\widehat{\\sigma}_{1}$ be the sample sd for $x_{1}$, let $\\widehat{\\sigma}_{2}$ be the sample standard deviation, ```pandas.DataFrame.std()```, for $x_{2}$, and so on. Then, simple algebra gives the equation\n",
    "\n",
    "$$\n",
    "\\begin{aligned}\n",
    "\\left(y_{i}-\\overline{y}\\right) / \\widehat{\\sigma}_{y} &=\\left(\\widehat{\\sigma}_{1} / \\widehat{\\sigma}_{y}\\right) \\widehat{\\beta}_{1}\\left[\\left(x_{i 1}-\\overline{x}_{1}\\right) / \\widehat{\\sigma}_{1}\\right]+\\ldots \\\\ &+\\left(\\widehat{\\sigma}_{k} / \\widehat{\\sigma}_{y}\\right) \\widehat{\\beta}_{k}\\left[\\left(x_{i k}-\\overline{x}_{k}\\right) / \\widehat{\\sigma}_{k}\\right]+\\left(\\widehat{e}_{i} / \\widehat{\\sigma}_{y}\\right).\n",
    "\\end{aligned}\n",
    "$$\n",
    "\n",
    "Now define $z_{i y}=\\left(y_{i}-\\overline{y}\\right) / \\widehat{\\sigma}_{y}$, $z_{i l}=\\left[\\left(x_{i l}-\\overline{x}_{l}\\right) / \\widehat{\\sigma}_{l}\\right]$, $\\widehat{b}_{l}=\\left(\\widehat{\\sigma}_{l} / \\widehat{\\sigma}_{y}\\right) \\widehat{\\beta}_{l}$ for $l=1,\\ldots,k$, and $\\widehat{\\varepsilon}_i=\\left(\\widehat{e}_{i} / \\widehat{\\sigma}_{y}\\right)$. Then\n",
    "\n",
    "$$\n",
    "z_{y}=\\widehat{b}_{1} z_{1}+\\widehat{b}_{2} z_{2}+\\ldots+\\widehat{b}_{k} z_{k}+\\widehat{\\varepsilon}_i.\n",
    "$$\n",
    "\n",
    "The new coefficients are\n",
    "\n",
    "$$\n",
    "\\widehat{b}_{j}=\\left(\\widehat{\\sigma}_{j} / \\widehat{\\sigma}_{y}\\right) \\widehat{\\beta}_{j} \\text { for } j=1, \\ldots, k.\n",
    "$$\n",
    "\n",
    "These $\\widehat{b}_{j}$ are traditionally called **standardized coefficients** or **beta coefficients**.\n",
    "\n",
    "✍🏽 If $x_l$ increases by one standard deviation, then $\\widehat{y}$ changes by $\\widehat{b}_l$ standard deviations. Thus, *we are measuring effects not in terms of the original units of $y$ or the $x_l$, but in standard deviation units*."
   ]
  },
  {
   "cell_type": "code",
   "execution_count": 17,
   "metadata": {
    "slideshow": {
     "slide_type": "subslide"
    }
   },
   "outputs": [
    {
     "name": "stderr",
     "output_type": "stream",
     "text": [
      "R[write to console]: Loading required package: lm.beta\n",
      "\n"
     ]
    },
    {
     "name": "stdout",
     "output_type": "stream",
     "text": [
      "                                     (Intercept) \n",
      "                                      0.00000000 \n",
      "                                           lland \n",
      "                                      0.18685413 \n",
      "                                           larea \n",
      "                                      0.49640630 \n",
      "                                           linst \n",
      "                                     -0.26349631 \n",
      "                                             age \n",
      "                                     -0.64300498 \n",
      "I((linst - log(mean(inst))) * (age - mean(age))) \n",
      "                                      0.05000987 \n",
      "                  I((linst - log(mean(inst)))^2) \n",
      "                                     -0.15421830 \n",
      "                          I((age - mean(age))^2) \n",
      "                                      0.37490499 \n"
     ]
    }
   ],
   "source": [
    "%%R\n",
    "\n",
    "## installing the 'lm.beta' package if not previously installed\n",
    "if (!require(lm.beta)) install.packages('lm.beta')\n",
    "\n",
    "print(coef(lm.beta(ols.1)))"
   ]
  },
  {
   "cell_type": "code",
   "execution_count": 18,
   "metadata": {},
   "outputs": [
    {
     "name": "stdout",
     "output_type": "stream",
     "text": [
      "[ 0.18685413  0.4964063  -0.26349631 -0.64300498  0.05000987 -0.1542183\n",
      "  0.37490499]\n"
     ]
    }
   ],
   "source": [
    "import patsy\n",
    "f = 'lprice ~ lland + larea + linst + age + I((linst-log(m.loc[\"inst\"]))*(age-m.loc[\"age\"])) + I((linst-log(m.loc[\"inst\"]))**2) + I((age-m.loc[\"age\"])**2) - 1'\n",
    "y,X = patsy.dmatrices(f, hprice3, return_type='dataframe')\n",
    "\n",
    "import statsmodels.api as sm\n",
    "from scipy.stats.mstats import zscore\n",
    "\n",
    "print(sm.OLS(zscore(y),zscore(X)).fit().params)"
   ]
  },
  {
   "cell_type": "markdown",
   "metadata": {
    "slideshow": {
     "slide_type": "subslide"
    }
   },
   "source": [
    "💻 Since each $x_l$ have been standardized, comparing the _magnitudes_ of the resulting beta coefficients is now useful. The ```age``` of the house seems to have the largest effect on the price of a home."
   ]
  },
  {
   "cell_type": "markdown",
   "metadata": {
    "slideshow": {
     "slide_type": "fragment"
    }
   },
   "source": [
    "<ins>Pre-Processing in Machine Learning</ins>: In machine learning, standardizing (*re-centering* and *scaling*) predictors is commonly done before model fitting. No transformation is usually done to the outcome variable."
   ]
  },
  {
   "cell_type": "code",
   "execution_count": 19,
   "metadata": {
    "slideshow": {
     "slide_type": "fragment"
    }
   },
   "outputs": [
    {
     "name": "stderr",
     "output_type": "stream",
     "text": [
      "R[write to console]: Loading required package: caret\n",
      "\n",
      "R[write to console]: Loading required package: lattice\n",
      "\n",
      "R[write to console]: Loading required package: ggplot2\n",
      "\n"
     ]
    },
    {
     "name": "stdout",
     "output_type": "stream",
     "text": [
      "                                             (Intercept) \n",
      "                                             11.37811794 \n",
      "                                                   lland \n",
      "                                              0.08187470 \n",
      "                                                   larea \n",
      "                                              0.21751254 \n",
      "                                                   linst \n",
      "                                             -0.11545734 \n",
      "                                                     age \n",
      "                                             -0.28174834 \n",
      "`\\\\`I((linst - log(mean(inst))) * (age - mean(age)))\\\\`` \n",
      "                                              0.02191305 \n",
      "                  `\\\\`I((linst - log(mean(inst)))^2)\\\\`` \n",
      "                                             -0.06757452 \n",
      "                          `\\\\`I((age - mean(age))^2)\\\\`` \n",
      "                                              0.16427378 \n"
     ]
    }
   ],
   "source": [
    "%%R\n",
    "\n",
    "X1 <- model.matrix(ols.1)[,-1]\n",
    "datos <- cbind(data.frame(lprice=hprice3$lprice),as.data.frame(X1))\n",
    "\n",
    "## installing the 'caret' package if not previously installed\n",
    "if (!require(caret)) install.packages('caret')\n",
    "\n",
    "modelo <- train(lprice ~ .,data = datos,method = 'lm',preProcess = c('scale', 'center'))\n",
    "\n",
    "print(coef(modelo$finalModel))"
   ]
  },
  {
   "cell_type": "code",
   "execution_count": 20,
   "metadata": {},
   "outputs": [
    {
     "name": "stdout",
     "output_type": "stream",
     "text": [
      "const    11.378118\n",
      "x1        0.081747\n",
      "x2        0.217173\n",
      "x3       -0.115277\n",
      "x4       -0.281309\n",
      "x5        0.021879\n",
      "x6       -0.067469\n",
      "x7        0.164018\n",
      "dtype: float64\n"
     ]
    }
   ],
   "source": [
    "print(sm.OLS(y,np.c_[np.ones(X.shape[0]),zscore(X)]).fit().params)"
   ]
  },
  {
   "cell_type": "code",
   "execution_count": null,
   "metadata": {},
   "outputs": [],
   "source": []
  }
 ],
 "metadata": {
  "hide_input": false,
  "kernelspec": {
   "display_name": "Python 3",
   "language": "python",
   "name": "python3"
  },
  "language_info": {
   "codemirror_mode": {
    "name": "ipython",
    "version": 3
   },
   "file_extension": ".py",
   "mimetype": "text/x-python",
   "name": "python",
   "nbconvert_exporter": "python",
   "pygments_lexer": "ipython3",
   "version": "3.7.9"
  },
  "latex_envs": {
   "LaTeX_envs_menu_present": true,
   "autoclose": false,
   "autocomplete": true,
   "bibliofile": "biblio.bib",
   "cite_by": "apalike",
   "current_citInitial": 1,
   "eqLabelWithNumbers": true,
   "eqNumInitial": 1,
   "hotkeys": {
    "equation": "Ctrl-E",
    "itemize": "Ctrl-I"
   },
   "labels_anchors": false,
   "latex_user_defs": false,
   "report_style_numbering": false,
   "user_envs_cfg": false
  }
 },
 "nbformat": 4,
 "nbformat_minor": 4
}
